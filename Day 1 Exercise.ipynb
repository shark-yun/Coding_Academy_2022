{
 "cells": [
  {
   "cell_type": "markdown",
   "id": "6ff53283",
   "metadata": {},
   "source": [
    "# 1. what type c is?"
   ]
  },
  {
   "cell_type": "code",
   "execution_count": 1,
   "id": "1473eb17",
   "metadata": {},
   "outputs": [],
   "source": [
    "a=5\n",
    "b=5.0\n",
    "c=a+b"
   ]
  },
  {
   "cell_type": "markdown",
   "id": "3f69de48",
   "metadata": {},
   "source": [
    "Answer:"
   ]
  },
  {
   "cell_type": "markdown",
   "id": "6b056338",
   "metadata": {},
   "source": [
    "# 2. what does d return?"
   ]
  },
  {
   "cell_type": "code",
   "execution_count": 2,
   "id": "63e4cf78",
   "metadata": {},
   "outputs": [],
   "source": [
    "d= 1+1==3 "
   ]
  },
  {
   "cell_type": "markdown",
   "id": "1fb0e26c",
   "metadata": {},
   "source": [
    "Answer:"
   ]
  },
  {
   "cell_type": "markdown",
   "id": "6a17b917",
   "metadata": {},
   "source": [
    "# 3. what does 2*(3 + 4)^2 return ?"
   ]
  },
  {
   "cell_type": "code",
   "execution_count": null,
   "id": "ecf516f5",
   "metadata": {},
   "outputs": [],
   "source": [
    "2 * (3 + 4)^2"
   ]
  },
  {
   "cell_type": "markdown",
   "id": "a7bb8648",
   "metadata": {},
   "source": [
    "Answer:"
   ]
  },
  {
   "cell_type": "markdown",
   "id": "2501706a",
   "metadata": {},
   "source": [
    "# 4. what value of z will be?"
   ]
  },
  {
   "cell_type": "code",
   "execution_count": 6,
   "id": "c1a779ad",
   "metadata": {},
   "outputs": [],
   "source": [
    "x=5\n",
    "y=5.5\n",
    "x=float(x)\n",
    "\n",
    "z=x+y"
   ]
  },
  {
   "cell_type": "markdown",
   "id": "0c2a2b11",
   "metadata": {},
   "source": [
    "Answer:"
   ]
  },
  {
   "cell_type": "markdown",
   "id": "1cbcc858",
   "metadata": {},
   "source": [
    "# 5. cast z as int"
   ]
  },
  {
   "cell_type": "code",
   "execution_count": null,
   "id": "b56376f7",
   "metadata": {},
   "outputs": [],
   "source": [
    "z"
   ]
  },
  {
   "cell_type": "markdown",
   "id": "4afde5a4",
   "metadata": {},
   "source": [
    "Answer:"
   ]
  },
  {
   "cell_type": "markdown",
   "id": "21727a7e",
   "metadata": {},
   "source": [
    "# 6. what will a return at the end?"
   ]
  },
  {
   "cell_type": "code",
   "execution_count": 1,
   "id": "3b9c0181",
   "metadata": {},
   "outputs": [],
   "source": [
    "a=1\n",
    "a=2\n",
    "a=a+a"
   ]
  },
  {
   "cell_type": "markdown",
   "id": "a0bdb4c8",
   "metadata": {},
   "source": [
    "Answer:"
   ]
  },
  {
   "cell_type": "markdown",
   "id": "eeb01d5a",
   "metadata": {},
   "source": [
    "# 7.what is the output of x?"
   ]
  },
  {
   "cell_type": "code",
   "execution_count": 5,
   "id": "b2bf2d59",
   "metadata": {},
   "outputs": [],
   "source": [
    "x=5\n",
    "x//=3\n",
    "x"
   ]
  },
  {
   "cell_type": "markdown",
   "id": "af095fb5",
   "metadata": {},
   "source": [
    "Answer:"
   ]
  },
  {
   "cell_type": "markdown",
   "id": "cc14d264",
   "metadata": {},
   "source": [
    "# 8. what does x > 5 < y return?"
   ]
  },
  {
   "cell_type": "code",
   "execution_count": 8,
   "id": "7fc5b85c",
   "metadata": {},
   "outputs": [],
   "source": [
    "x=5\n",
    "y=6"
   ]
  },
  {
   "cell_type": "markdown",
   "id": "85fcb8c0",
   "metadata": {},
   "source": [
    "Answer:"
   ]
  },
  {
   "cell_type": "markdown",
   "id": "330232e5",
   "metadata": {},
   "source": [
    "# 9. what will y be? true or false?"
   ]
  },
  {
   "cell_type": "code",
   "execution_count": 10,
   "id": "22c953dc",
   "metadata": {},
   "outputs": [],
   "source": [
    "x=3\n",
    "y=not(x>4<2)"
   ]
  },
  {
   "cell_type": "markdown",
   "id": "3d259912",
   "metadata": {},
   "source": [
    "Answer:"
   ]
  },
  {
   "cell_type": "markdown",
   "id": "a333531b",
   "metadata": {},
   "source": [
    "# 10 What will A print?"
   ]
  },
  {
   "cell_type": "code",
   "execution_count": null,
   "id": "0d33ac30",
   "metadata": {},
   "outputs": [],
   "source": [
    "A='123'\n",
    "print(A*2+A)"
   ]
  },
  {
   "cell_type": "markdown",
   "id": "4c91af58",
   "metadata": {},
   "source": [
    "# 11 print only 2 decimal as 3.14 by %f"
   ]
  },
  {
   "cell_type": "code",
   "execution_count": null,
   "id": "88e53bea",
   "metadata": {},
   "outputs": [],
   "source": [
    "num=3.14121212\n",
    "# place your answer here"
   ]
  },
  {
   "cell_type": "markdown",
   "id": "3265e035",
   "metadata": {},
   "source": [
    "# 12 print only 2 decimal as 3.14 by format"
   ]
  },
  {
   "cell_type": "code",
   "execution_count": null,
   "id": "e9609a5f",
   "metadata": {},
   "outputs": [],
   "source": [
    "num=3.14121212\n",
    "# place your answer here"
   ]
  },
  {
   "cell_type": "markdown",
   "id": "ee35569b",
   "metadata": {},
   "source": [
    "# 13. Slice out the abc and reasign the variable x"
   ]
  },
  {
   "cell_type": "code",
   "execution_count": null,
   "id": "968cb768",
   "metadata": {},
   "outputs": [],
   "source": [
    "x=\"123abc456\"\n",
    "...\n",
    "print(x)"
   ]
  },
  {
   "cell_type": "markdown",
   "id": "33eb4a18",
   "metadata": {},
   "source": [
    "# 14. Replace the word in a make it as \"apple\", by slicing"
   ]
  },
  {
   "cell_type": "code",
   "execution_count": null,
   "id": "219789dc",
   "metadata": {},
   "outputs": [],
   "source": [
    "a=\"accle\"\n",
    "...\n",
    "print(a)"
   ]
  },
  {
   "cell_type": "markdown",
   "id": "aac3eca2",
   "metadata": {},
   "source": [
    "# 15. Replace the word in a make it as \"apple\", by replace()"
   ]
  },
  {
   "cell_type": "code",
   "execution_count": null,
   "id": "3bc29d15",
   "metadata": {},
   "outputs": [],
   "source": [
    "a=\"accle\"\n",
    "...\n",
    "print(a)"
   ]
  },
  {
   "cell_type": "markdown",
   "id": "f5d49af6",
   "metadata": {},
   "source": [
    "# 16. Use str.format print the name in the sentence."
   ]
  },
  {
   "cell_type": "code",
   "execution_count": null,
   "id": "fb18e7cf",
   "metadata": {},
   "outputs": [],
   "source": [
    "name = input('Input your name')\n",
    "print('My name is{ }'.......)"
   ]
  }
 ],
 "metadata": {
  "kernelspec": {
   "display_name": "Python 3 (ipykernel)",
   "language": "python",
   "name": "python3"
  },
  "language_info": {
   "codemirror_mode": {
    "name": "ipython",
    "version": 3
   },
   "file_extension": ".py",
   "mimetype": "text/x-python",
   "name": "python",
   "nbconvert_exporter": "python",
   "pygments_lexer": "ipython3",
   "version": "3.9.13"
  }
 },
 "nbformat": 4,
 "nbformat_minor": 5
}
