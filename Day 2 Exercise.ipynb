{
 "cells": [
  {
   "cell_type": "markdown",
   "id": "e0b06b70",
   "metadata": {},
   "source": [
    "# 1. How many elements are in L?"
   ]
  },
  {
   "cell_type": "code",
   "execution_count": 1,
   "id": "c6250381",
   "metadata": {
    "scrolled": false
   },
   "outputs": [],
   "source": [
    "L=list(('spam',range(0,10)))\n"
   ]
  },
  {
   "cell_type": "markdown",
   "id": "459f4046",
   "metadata": {},
   "source": [
    "### 1-2 how many element in L?"
   ]
  },
  {
   "cell_type": "code",
   "execution_count": 2,
   "id": "a95b2de2",
   "metadata": {},
   "outputs": [],
   "source": [
    "L=list(range(0,10))\n"
   ]
  },
  {
   "cell_type": "markdown",
   "id": "64fc3d33",
   "metadata": {},
   "source": [
    "# 2. what will L.count(5) return?"
   ]
  },
  {
   "cell_type": "code",
   "execution_count": 3,
   "id": "9bffad2f",
   "metadata": {},
   "outputs": [
    {
     "name": "stdout",
     "output_type": "stream",
     "text": [
      "[1, 2, 3, 5, 5, 6, 7, [5, 5]]\n"
     ]
    }
   ],
   "source": [
    "L=[1,2,3]\n",
    "L.append(5)\n",
    "L.extend([5,6,7,[5,5]])\n",
    "print(L)\n"
   ]
  },
  {
   "cell_type": "markdown",
   "id": "5280c574",
   "metadata": {},
   "source": [
    "Answer: "
   ]
  },
  {
   "cell_type": "markdown",
   "id": "8efefade",
   "metadata": {},
   "source": [
    "# 3. What's the length of L?"
   ]
  },
  {
   "cell_type": "code",
   "execution_count": 4,
   "id": "600965cd",
   "metadata": {},
   "outputs": [],
   "source": [
    "L=[1,2,3]\n",
    "L.append(5)\n",
    "L.extend([5,6,7,[5,5]])"
   ]
  },
  {
   "cell_type": "markdown",
   "id": "afdd20ec",
   "metadata": {},
   "source": [
    "Answer: "
   ]
  },
  {
   "cell_type": "markdown",
   "id": "ebb6854f",
   "metadata": {},
   "source": [
    "# 4. Does a == b?"
   ]
  },
  {
   "cell_type": "code",
   "execution_count": 5,
   "id": "3f8facf1",
   "metadata": {},
   "outputs": [],
   "source": [
    "L=[123,456,[123,456]]\n",
    "a=L[0:2]\n",
    "\n",
    "b=L[2]\n",
    "\n"
   ]
  },
  {
   "cell_type": "markdown",
   "id": "33920f68",
   "metadata": {},
   "source": [
    "Answer: "
   ]
  },
  {
   "cell_type": "markdown",
   "id": "c19770a1",
   "metadata": {},
   "source": [
    "# 5. Print \"Hello World\" if a is greater than b."
   ]
  },
  {
   "cell_type": "code",
   "execution_count": 14,
   "id": "0fa521f8",
   "metadata": {},
   "outputs": [
    {
     "name": "stdout",
     "output_type": "stream",
     "text": [
      "Hello World\n"
     ]
    }
   ],
   "source": [
    "a = 50\n",
    "b = 10\n",
    "...:\n",
    "    print(\"Hello World\")"
   ]
  },
  {
   "cell_type": "markdown",
   "id": "860d6dd0",
   "metadata": {},
   "source": [
    "# 6. Write a python code to check the type of a variable to ensure that it is of type int. If so, print out the variable and that the input is validated. If it's not an int, print out that the input is invalid."
   ]
  },
  {
   "cell_type": "code",
   "execution_count": 17,
   "id": "5ded8161",
   "metadata": {},
   "outputs": [
    {
     "name": "stdout",
     "output_type": "stream",
     "text": [
      "input is invalidate\n"
     ]
    }
   ],
   "source": [
    "var = 'stats'\n",
    "\n",
    "...:\n",
    "    print(var,\"input is validated\")\n",
    "...:\n",
    "    print(\"input is invalidate\")"
   ]
  },
  {
   "cell_type": "markdown",
   "id": "f4976874",
   "metadata": {},
   "source": [
    "# 7. input a student's grade, and write controll-flow to identify the letter grade for it. #\n",
    "#### (A: 90<=x , B: 80<=x<90, C: 70<=x<80, D: 60<=x<70, F: x<60)"
   ]
  },
  {
   "cell_type": "code",
   "execution_count": 23,
   "id": "8bd6c54b",
   "metadata": {},
   "outputs": [
    {
     "name": "stdout",
     "output_type": "stream",
     "text": [
      "Enter your gradeapple\n",
      "ValueError shows up\n",
      "Enter your grade with proper input, ex: a number between 0-100: 50\n",
      "F\n"
     ]
    }
   ],
   "source": [
    "x=input(\"Enter your grade\")\n",
    "\n"
   ]
  },
  {
   "cell_type": "markdown",
   "id": "9259f26b",
   "metadata": {},
   "source": [
    "## 8. write a taxi fee program, base fee is 5 dollor and it will increase 1.5 per min and when travel time >10 mins, it will be 0.5 per min. "
   ]
  },
  {
   "cell_type": "code",
   "execution_count": 25,
   "id": "a5adb015",
   "metadata": {},
   "outputs": [
    {
     "name": "stdout",
     "output_type": "stream",
     "text": [
      "18.5 fee\n"
     ]
    }
   ],
   "source": [
    "time=9\n"
   ]
  },
  {
   "cell_type": "code",
   "execution_count": 26,
   "id": "c1c1e8f9",
   "metadata": {},
   "outputs": [
    {
     "name": "stdout",
     "output_type": "stream",
     "text": [
      "22.5 fee\n"
     ]
    }
   ],
   "source": [
    "time=15\n",
    "\n",
    "#you may just copy after you done."
   ]
  },
  {
   "cell_type": "markdown",
   "id": "357a057e",
   "metadata": {},
   "source": [
    "## 9. write a program will change the input number as percentage, and do error handling."
   ]
  },
  {
   "cell_type": "markdown",
   "id": "a31e5c60",
   "metadata": {},
   "source": [
    "expected output:\n",
    "\n",
    "for input =72\n",
    "\n",
    "72%"
   ]
  },
  {
   "cell_type": "code",
   "execution_count": 28,
   "id": "1d366c38",
   "metadata": {},
   "outputs": [
    {
     "name": "stdout",
     "output_type": "stream",
     "text": [
      "enter a number between 0-100-1\n",
      "enter a number between 0-1001\n",
      "1 %\n"
     ]
    }
   ],
   "source": [
    "x=input(\"enter a number between 0-100\")\n",
    "\n",
    "\n",
    "#first error: check it's integar or not, but the input is str so you have to cast as int, (need try-expect)\n",
    "#second error: check if it's between 0-100.\n",
    "\n",
    "#then print the number with %\n",
    "\n",
    "\n"
   ]
  },
  {
   "cell_type": "code",
   "execution_count": null,
   "id": "5dafe98a",
   "metadata": {},
   "outputs": [],
   "source": []
  },
  {
   "cell_type": "code",
   "execution_count": null,
   "id": "8a486519",
   "metadata": {},
   "outputs": [],
   "source": []
  },
  {
   "cell_type": "code",
   "execution_count": null,
   "id": "f5920667",
   "metadata": {},
   "outputs": [],
   "source": []
  },
  {
   "cell_type": "code",
   "execution_count": null,
   "id": "3ab7ac45",
   "metadata": {},
   "outputs": [],
   "source": []
  }
 ],
 "metadata": {
  "kernelspec": {
   "display_name": "Python 3 (ipykernel)",
   "language": "python",
   "name": "python3"
  },
  "language_info": {
   "codemirror_mode": {
    "name": "ipython",
    "version": 3
   },
   "file_extension": ".py",
   "mimetype": "text/x-python",
   "name": "python",
   "nbconvert_exporter": "python",
   "pygments_lexer": "ipython3",
   "version": "3.9.13"
  }
 },
 "nbformat": 4,
 "nbformat_minor": 5
}
