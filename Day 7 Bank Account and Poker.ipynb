{
 "cells": [
  {
   "cell_type": "markdown",
   "id": "a935dd88",
   "metadata": {},
   "source": [
    "# Class Definition #\n",
    "\n",
    "#### Define a class, Account , which will be used to store a bank account. ####\n",
    "\n",
    "#### The Account class will hold info: ####\n",
    "\n",
    "name : a string with the account holder's name\n",
    "\n",
    "balance : a float to represent the money in the account.\n",
    "\n",
    "#### The class should have the following behaviors: ####\n",
    "\n",
    "A new account for \"Miles\" with $101.50 can be created with Account('Miles', 101.5) . If no name is provided, the default name should be 'anon', and the default starting balance should be 0.\n",
    "\n",
    "The string representation of the account is: name's account. Balance: $x .\n",
    "\n",
    "For example,Miles's account. Balance: $101.50 . There should be two places after the decimal.\n",
    "\n",
    "#### Create a method deposit(x):\n",
    "\n",
    "-Verify that x is positive. If x is negative, raise a ValueError exception.\n",
    "\n",
    "-If x is positive, add x dollars to the account. After depositing, it will print the new balance to the screen.\n",
    "\n",
    "#### Create a method withdraw(x):\n",
    "\n",
    "-Verify that x is positive. If x is negative, raise a ValueError exception.\n",
    "\n",
    "-Check to see if the balance is at least as large as x . If the balance is less than x , raise a ValueError exception.\n",
    "\n",
    "-If the balance of the account is greater than x , deduct x dollars from the account and print the new balance to the screen.\n",
    "\n",
    "#### You should be able to compare one Account instance with another Account instance by comparing the dollar amounts in them.\n",
    "\n",
    "#### If you add one account with another account, it will combine the balances together.\n",
    "\n",
    "The name on the new account will be name1 and name2 . For example:\n",
    "acct1 = Account(\"Miles\", 101.5)\n",
    "\n",
    "acct2 = Account(\"Krystal\", 120)\n",
    "\n",
    "acct3 = acct1 + acct2.\n",
    "\n",
    "print(acct3)\n",
    "\n",
    "Miles and Krystal's account. Balance: $221.50"
   ]
  },
  {
   "cell_type": "code",
   "execution_count": null,
   "id": "ce7d9c88",
   "metadata": {},
   "outputs": [],
   "source": [
    "class Account:\n",
    "    def __init__(self, name='anon', balance=0):\n",
    "        pass\n",
    "    \n",
    "    def __str__():\n",
    "        pass"
   ]
  },
  {
   "cell_type": "code",
   "execution_count": null,
   "id": "034914ae",
   "metadata": {},
   "outputs": [],
   "source": []
  },
  {
   "cell_type": "code",
   "execution_count": null,
   "id": "c8002349",
   "metadata": {},
   "outputs": [],
   "source": [
    "# test cases. do not modify\n",
    "acct1 = Account(\"Miles\", 101.5)"
   ]
  },
  {
   "cell_type": "code",
   "execution_count": null,
   "id": "d661dba5",
   "metadata": {},
   "outputs": [],
   "source": [
    "print(acct1)"
   ]
  },
  {
   "cell_type": "code",
   "execution_count": null,
   "id": "72ad6bb4",
   "metadata": {},
   "outputs": [],
   "source": [
    "acct1.deposit(20)"
   ]
  },
  {
   "cell_type": "code",
   "execution_count": null,
   "id": "cef0fb15",
   "metadata": {},
   "outputs": [],
   "source": [
    "acct1.deposit(-20)"
   ]
  },
  {
   "cell_type": "code",
   "execution_count": null,
   "id": "8946ad33",
   "metadata": {},
   "outputs": [],
   "source": [
    "acct1.withdraw(20)"
   ]
  },
  {
   "cell_type": "code",
   "execution_count": null,
   "id": "191e4445",
   "metadata": {},
   "outputs": [],
   "source": [
    "acct1.withdraw(-20)"
   ]
  },
  {
   "cell_type": "code",
   "execution_count": null,
   "id": "0fa0cefe",
   "metadata": {},
   "outputs": [],
   "source": [
    "acct1.withdraw(200)"
   ]
  },
  {
   "cell_type": "code",
   "execution_count": null,
   "id": "c1cdd406",
   "metadata": {},
   "outputs": [],
   "source": [
    "acct1.withdraw(0)"
   ]
  },
  {
   "cell_type": "code",
   "execution_count": null,
   "id": "11591cfa",
   "metadata": {},
   "outputs": [],
   "source": [
    "acct2 = Account(\"Krystal\", 120)"
   ]
  },
  {
   "cell_type": "code",
   "execution_count": null,
   "id": "8cf6a9d6",
   "metadata": {},
   "outputs": [],
   "source": [
    "print(acct2)"
   ]
  },
  {
   "cell_type": "code",
   "execution_count": null,
   "id": "3d0b765f",
   "metadata": {},
   "outputs": [],
   "source": [
    "acct1 > acct2"
   ]
  },
  {
   "cell_type": "code",
   "execution_count": null,
   "id": "99964425",
   "metadata": {},
   "outputs": [],
   "source": [
    "acct1 < acct2"
   ]
  },
  {
   "cell_type": "code",
   "execution_count": null,
   "id": "c1cabac8",
   "metadata": {},
   "outputs": [],
   "source": [
    "acct3 = acct1 + acct2"
   ]
  },
  {
   "cell_type": "code",
   "execution_count": null,
   "id": "e6fbc392",
   "metadata": {},
   "outputs": [],
   "source": [
    "print(acct3)"
   ]
  },
  {
   "cell_type": "code",
   "execution_count": null,
   "id": "7c13737b",
   "metadata": {},
   "outputs": [],
   "source": [
    "acct3.deposit(50)"
   ]
  },
  {
   "cell_type": "code",
   "execution_count": null,
   "id": "5ad4997f",
   "metadata": {},
   "outputs": [],
   "source": []
  },
  {
   "cell_type": "code",
   "execution_count": null,
   "id": "ec752c04",
   "metadata": {},
   "outputs": [],
   "source": []
  },
  {
   "cell_type": "code",
   "execution_count": null,
   "id": "0aaff38a",
   "metadata": {},
   "outputs": [],
   "source": []
  },
  {
   "cell_type": "code",
   "execution_count": null,
   "id": "7480ac46",
   "metadata": {},
   "outputs": [],
   "source": [
    "class Card:\n",
    "    def __init__(self, suit = 0, rank = 2):\n",
    "        self.suit = suit\n",
    "        self.rank = rank\n",
    "    suit_names = ['Clubs', 'Diamonds', 'Hearts', 'Spades']\n",
    "    rank_names = [None, 'Ace', '2', '3', '4', '5', '6', '7',\n",
    "                 '8', '9', '10', 'Jack', 'Queen', 'King']\n",
    "    bb\n",
    "    def __str__(self):\n",
    "        return \"{:s} of {:s}\".format(Card.rank_names[self.rank],\n",
    "                                     Card.suit_names[self.suit])\n",
    "    def __lt__(self, other):\n",
    "        t1 = self.suit, self.rank\n",
    "        t2 = other.suit, other.rank\n",
    "        return t1 < t2\n",
    "    def __gt__(self, other):\n",
    "        #modify the this function\n",
    "        pass\n",
    "    \n",
    "    def __eq__(self, other):\n",
    "        t1 = self.suit, self.rank\n",
    "        t2 = other.suit, other.rank\n",
    "        return t1 == t2"
   ]
  },
  {
   "cell_type": "code",
   "execution_count": null,
   "id": "47c58136",
   "metadata": {},
   "outputs": [],
   "source": [
    "card1 = Card(1, 12)\n",
    "print(card1)"
   ]
  },
  {
   "cell_type": "code",
   "execution_count": null,
   "id": "fbe5b239",
   "metadata": {},
   "outputs": [],
   "source": [
    "card2 = Card(2, 11)\n",
    "print(card2)"
   ]
  },
  {
   "cell_type": "code",
   "execution_count": null,
   "id": "b78da322",
   "metadata": {},
   "outputs": [],
   "source": [
    "card1 < card2"
   ]
  },
  {
   "cell_type": "code",
   "execution_count": null,
   "id": "5303b38b",
   "metadata": {},
   "outputs": [],
   "source": []
  },
  {
   "cell_type": "code",
   "execution_count": null,
   "id": "bb409134",
   "metadata": {},
   "outputs": [],
   "source": []
  },
  {
   "cell_type": "code",
   "execution_count": 1,
   "id": "5a83f8eb",
   "metadata": {},
   "outputs": [],
   "source": [
    "# no need to change this code block\n",
    "import random\n",
    "class Card:\n",
    "    \"\"\"Represents a standard playing card.\n",
    "        Attributes:\n",
    "           suit: integer 0-3\n",
    "           rank: integer 1-13\n",
    "    \"\"\"\n",
    "    suit_names = [\"Clubs\", \"Diamonds\", \"Hearts\", \"Spades\"]\n",
    "    rank_names = [None, \"Ace\", \"2\", \"3\", \"4\", \"5\", \"6\", \"7\",\n",
    "                    \"8\", \"9\", \"10\", \"Jack\", \"Queen\", \"King\"]\n",
    "    def __init__(self, suit=0, rank=2):\n",
    "        self.suit = suit\n",
    "        self.rank = rank\n",
    "    def __str__(self):\n",
    "        \"\"\"Returns a human-readable string representation.\"\"\"\n",
    "        return '%s of %s' % (Card.rank_names[self.rank],Card.suit_names[self.suit])\n",
    "    def __eq__(self, other):\n",
    "        \"\"\"Checks whether self and other have the same rank and suit.\n",
    "        returns: boolean\n",
    "        \"\"\"\n",
    "        return self.suit == other.suit and self.rank == other.rank\n",
    "    def __lt__(self, other):\n",
    "        \"\"\"Compares this card to other, first by suit, then rank.\n",
    "            returns: boolean\n",
    "        \"\"\"\n",
    "        t1 = self.suit, self.rank\n",
    "        t2 = other.suit, other.rank\n",
    "        return t1 < t2\n",
    "class Deck:\n",
    "    \"\"\"Represents a deck of cards.\n",
    "        Attributes:\n",
    "            cards: list of Card objects.\n",
    "    \"\"\"\n",
    "\n",
    "    def __init__(self):\n",
    "        \"\"\"Initializes the Deck with 52 cards.\"\"\"\n",
    "        self.cards = []\n",
    "        for suit in range(4):\n",
    "            for rank in range(1, 14):\n",
    "                card = Card(suit, rank)\n",
    "                self.cards.append(card)\n",
    "    def __str__(self):\n",
    "        \"\"\"Returns a string representation of the deck.\n",
    "        \"\"\"\n",
    "        res = []\n",
    "        for card in self.cards:\n",
    "            res.append(str(card))\n",
    "        return '\\n'.join(res)\n",
    "    def add_card(self, card):\n",
    "        \"\"\"Adds a card to the deck.\n",
    "        card: Card\n",
    "        \"\"\"\n",
    "        self.cards.append(card)\n",
    "    def remove_card(self, card):\n",
    "        \"\"\"Removes a card from the deck or raises exception if it is not there.\n",
    "            card: Card\n",
    "        \"\"\"\n",
    "        self.cards.remove(card)\n",
    "    def pop_card(self, i=-1):\n",
    "        \"\"\"Removes and returns a card from the deck.\n",
    "        i: index of the card to pop; by default, pops the last card.\n",
    "        \"\"\"\n",
    "        return self.cards.pop(i)\n",
    "    def shuffle(self):\n",
    "        \"\"\"Shuffles the cards in this deck.\"\"\"\n",
    "        random.shuffle(self.cards)\n",
    "    def sort(self):\n",
    "        \"\"\"Sorts the cards in ascending order.\"\"\"\n",
    "        self.cards.sort()\n",
    "    def move_cards(self, hand, num):\n",
    "        \"\"\"Moves the given number of cards from the deck into the Hand.\n",
    "        hand: destination Hand object\n",
    "        num: integer number of cards to move\n",
    "        \"\"\"\n",
    "        for i in range(num):\n",
    "            hand.add_card(self.pop_card())\n",
    "class Hand(Deck):\n",
    "    \"\"\"Represents a hand of playing cards.\"\"\"\n",
    "\n",
    "    def __init__(self, label=''):\n",
    "        self.cards = []\n",
    "        self.label = label\n",
    "    def find_defining_class(obj, method_name):\n",
    "        \"\"\"Finds and returns the class object that will provide\n",
    "        the definition of method_name (as a string) if it is\n",
    "        invoked on obj.\n",
    "        obj: any python object\n",
    "        method_name: string method name\n",
    "        \"\"\"\n",
    "        for ty in type(obj).mro():\n",
    "            if method_name in ty.__dict__:\n",
    "                return ty\n",
    "        return None"
   ]
  },
  {
   "cell_type": "code",
   "execution_count": 4,
   "id": "04fd17f0",
   "metadata": {},
   "outputs": [],
   "source": [
    "# no need to change this code block\n",
    "## PokerHand.py : An incomplete implementation of a class that represents a poker hand,\n",
    "## some code that tests it.\n",
    "class PokerHand(Hand):\n",
    "    \"\"\"Represents a poker hand.\"\"\"\n",
    "\n",
    " # all_labels is a list of all the labels in order from highest rank\n",
    " # to lowest rank\n",
    "    all_labels = ['straightflush', 'fourkind', 'fullhouse', 'flush',\n",
    "                'straight', 'threekind', 'twopair', 'pair', 'highcard']\n",
    "    def suit_hist(self):\n",
    "        \"\"\"Builds a histogram of the suits that appear in the hand.\n",
    " Stores the result in attribute suits.\n",
    " \"\"\"\n",
    "        self.suits = {}\n",
    "        for card in self.cards:\n",
    "            self.suits[card.suit] = self.suits.get(card.suit, 0) + 1\n",
    "    def has_flush(self):\n",
    "        \"\"\"Returns True if the hand has a flush, False otherwise.\n",
    "\n",
    " Note that this works correctly for hands with more than 5 cards.\n",
    " \"\"\"\n",
    "        self.suit_hist()\n",
    "        for val in self.suits.values():\n",
    "            if val >= 5:\n",
    "                return True\n",
    "        return False"
   ]
  },
  {
   "cell_type": "markdown",
   "id": "53729959",
   "metadata": {},
   "source": [
    "If you run the following cell, it deals seven 7-card poker hands and checks to see if any of them\n",
    "contains a flush. Read this code carefully before you go on."
   ]
  },
  {
   "cell_type": "code",
   "execution_count": 5,
   "id": "2e28e459",
   "metadata": {},
   "outputs": [
    {
     "name": "stdout",
     "output_type": "stream",
     "text": [
      "Ace of Diamonds\n",
      "Jack of Diamonds\n",
      "5 of Hearts\n",
      "3 of Spades\n",
      "7 of Spades\n",
      "8 of Spades\n",
      "Queen of Spades\n",
      "False\n",
      "\n",
      "4 of Clubs\n",
      "5 of Clubs\n",
      "8 of Clubs\n",
      "Queen of Clubs\n",
      "4 of Diamonds\n",
      "Queen of Hearts\n",
      "King of Spades\n",
      "False\n",
      "\n",
      "5 of Diamonds\n",
      "8 of Diamonds\n",
      "Ace of Hearts\n",
      "4 of Hearts\n",
      "9 of Hearts\n",
      "2 of Spades\n",
      "5 of Spades\n",
      "False\n",
      "\n",
      "10 of Clubs\n",
      "2 of Hearts\n",
      "10 of Hearts\n",
      "King of Hearts\n",
      "6 of Spades\n",
      "9 of Spades\n",
      "Jack of Spades\n",
      "False\n",
      "\n",
      "2 of Clubs\n",
      "3 of Clubs\n",
      "Jack of Clubs\n",
      "3 of Diamonds\n",
      "7 of Diamonds\n",
      "7 of Hearts\n",
      "Jack of Hearts\n",
      "False\n",
      "\n",
      "7 of Clubs\n",
      "King of Clubs\n",
      "9 of Diamonds\n",
      "Queen of Diamonds\n",
      "King of Diamonds\n",
      "3 of Hearts\n",
      "6 of Hearts\n",
      "False\n",
      "\n",
      "Ace of Clubs\n",
      "9 of Clubs\n",
      "6 of Diamonds\n",
      "10 of Diamonds\n",
      "Ace of Spades\n",
      "4 of Spades\n",
      "10 of Spades\n",
      "False\n",
      "\n"
     ]
    }
   ],
   "source": [
    "# no need to change this code block\n",
    "# make a deck\n",
    "deck = Deck()\n",
    "deck.shuffle()\n",
    "# deal the cards and classify the hands\n",
    "for i in range(7):\n",
    "    hand = PokerHand()\n",
    "    deck.move_cards(hand, 7)\n",
    "    hand.sort()\n",
    "    print(hand)\n",
    "    print(hand.has_flush())\n",
    "    print('')"
   ]
  },
  {
   "cell_type": "markdown",
   "id": "b8d3d3b1",
   "metadata": {},
   "source": [
    "#### 1. Add methods to class PokerHand named has_pair , has_twopair , etc. that return True\n",
    "#### or False according to whether or not the hand meets the relevant criteria. Your code should\n",
    "#### work correctly for \"hands\" that contain any number of cards (although 5 and 7 are the most\n",
    "#### common sizes). \n",
    "\n",
    "#### 2. Write a method named classify that figures out the classifications for a hand and creates a\n",
    "#### list of labels accordingly. For example, a 7-card hand might contain a flush and a pair. It will\n",
    "#### create an attribute labels which is a list `[\"flush\", \"pair\"]"
   ]
  },
  {
   "cell_type": "code",
   "execution_count": null,
   "id": "d8a08e81",
   "metadata": {},
   "outputs": [],
   "source": [
    "#modify here\n",
    "class PokerHand(Hand):\n",
    "    \"\"\"Represents a poker hand.\"\"\"\n",
    "\n",
    " # all_labels is a list of all the labels in order from highest rank\n",
    " # to lowest rank\n",
    "    all_labels = ['straightflush', 'fourkind', 'fullhouse', 'flush',\n",
    "                'straight', 'threekind', 'twopair', 'pair', 'highcard']\n",
    "    def suit_hist(self):\n",
    "        \"\"\"Builds a histogram of the suits that appear in the hand.\n",
    " Stores the result in attribute suits.\n",
    " \"\"\"\n",
    "        self.suits = {}\n",
    "        for card in self.cards:\n",
    "            self.suits[card.suit] = self.suits.get(card.suit, 0) + 1\n",
    "    def has_flush(self):\n",
    "        \"\"\"Returns True if the hand has a flush, False otherwise.\n",
    "\n",
    " Note that this works correctly for hands with more than 5 cards.\n",
    " \"\"\"\n",
    "        self.suit_hist()\n",
    "        for val in self.suits.values():\n",
    "            if val >= 5:\n",
    "                return True\n",
    "        return False\n",
    "    \n",
    "    \n",
    "    def...\n",
    "    \n",
    "    \n",
    "    def..\n",
    "    \n",
    "    \n",
    "    def...\n",
    "    \n",
    "    \n",
    "    def...\n",
    "    \n",
    "    def..."
   ]
  },
  {
   "cell_type": "code",
   "execution_count": null,
   "id": "fed0ba38",
   "metadata": {},
   "outputs": [],
   "source": []
  },
  {
   "cell_type": "code",
   "execution_count": 6,
   "id": "fb6709b2",
   "metadata": {},
   "outputs": [],
   "source": [
    "# no need to change this code block\n",
    "class PokerDeck(Deck):\n",
    "    \"\"\"Represents a deck of cards that can deal poker hands.\"\"\"\n",
    "    def deal_hands(self, num_cards=5, num_hands=10):\n",
    "        \"\"\"Deals hands from the deck and returns Hands.\n",
    "        num_cards: cards per hand\n",
    "        num_hands: number of hands\n",
    "        returns: list of Hands\n",
    "        \"\"\"\n",
    "        hands = []\n",
    "        for i in range(num_hands):\n",
    "            hand = PokerHand()\n",
    "            self.move_cards(hand, num_cards)\n",
    "            hand.classify()\n",
    "            hands.append(hand)\n",
    "        return hands"
   ]
  },
  {
   "cell_type": "code",
   "execution_count": 7,
   "id": "4967afdb",
   "metadata": {},
   "outputs": [],
   "source": [
    "# no need to change this code block\n",
    "class Hist(dict):\n",
    "    \"\"\"A map from each item (x) to its frequency.\"\"\"\n",
    "    def __init__(self, seq=[]):\n",
    "        \"Creates a new histogram starting with the items in seq.\"\n",
    "        for x in seq:\n",
    "            self.count(x)\n",
    "    def count(self, x, f=1):\n",
    "        \"Increments (or decrements) the counter associated with item x.\"\n",
    "        self[x] = self.get(x, 0) + f\n",
    "        if self[x] == 0:\n",
    "            del self[x]"
   ]
  },
  {
   "cell_type": "code",
   "execution_count": null,
   "id": "58e42d88",
   "metadata": {},
   "outputs": [],
   "source": [
    "# test code. no need to modify\n",
    "def main():\n",
    "    # the label histogram: map from label to number of occurances\n",
    "    lhist = Hist()\n",
    "    # loop n times, dealing 7 hands per iteration, 7 cards each\n",
    "    n = 10000\n",
    "    for i in range(n):\n",
    "        if i % 1000 == 0:\n",
    "            print(i)\n",
    "\n",
    "        deck = PokerDeck()\n",
    "        deck.shuffle()\n",
    "        hands = deck.deal_hands(7, 7)\n",
    "        for hand in hands:\n",
    "            for label in hand.labels:\n",
    "                lhist.count(label)\n",
    "\n",
    "    # print the results\n",
    "    total = 7.0 * n\n",
    "    print(total, 'hands dealt:')\n",
    "    for label in PokerHand.all_labels:\n",
    "        freq = lhist.get(label, 0)\n",
    "        if freq == 0:\n",
    "            continue\n",
    "        p = total / freq\n",
    "        print('%s happens one time in %.2f' % (label, p))"
   ]
  },
  {
   "cell_type": "code",
   "execution_count": null,
   "id": "42e75d6a",
   "metadata": {},
   "outputs": [],
   "source": [
    "main()"
   ]
  },
  {
   "cell_type": "code",
   "execution_count": null,
   "id": "166a82aa",
   "metadata": {},
   "outputs": [],
   "source": []
  },
  {
   "cell_type": "code",
   "execution_count": null,
   "id": "93f65da4",
   "metadata": {},
   "outputs": [],
   "source": [
    "#expect output, somewhere around will be fine:"
   ]
  },
  {
   "cell_type": "code",
   "execution_count": null,
   "id": "0d11375c",
   "metadata": {},
   "outputs": [],
   "source": [
    "0\n",
    "1000\n",
    "2000\n",
    "3000\n",
    "4000\n",
    "5000\n",
    "6000\n",
    "7000\n",
    "8000\n",
    "9000\n",
    "70000.0 hands dealt:\n",
    "straightflush happens one time in 3333.33\n",
    "fourkind happens one time in 619.47\n",
    "fullhouse happens one time in 37.43\n",
    "flush happens one time in 32.23\n",
    "straight happens one time in 23.26\n",
    "threekind happens one time in 13.06\n",
    "twopair happens one time in 4.47\n",
    "pair happens one time in 1.35\n",
    "highcard happens one time in 4.41"
   ]
  }
 ],
 "metadata": {
  "kernelspec": {
   "display_name": "Python 3 (ipykernel)",
   "language": "python",
   "name": "python3"
  },
  "language_info": {
   "codemirror_mode": {
    "name": "ipython",
    "version": 3
   },
   "file_extension": ".py",
   "mimetype": "text/x-python",
   "name": "python",
   "nbconvert_exporter": "python",
   "pygments_lexer": "ipython3",
   "version": "3.9.13"
  }
 },
 "nbformat": 4,
 "nbformat_minor": 5
}
