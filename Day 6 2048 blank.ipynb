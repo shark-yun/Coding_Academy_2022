{
 "cells": [
  {
   "cell_type": "code",
   "execution_count": 176,
   "id": "735e4ca5",
   "metadata": {
    "scrolled": true
   },
   "outputs": [
    {
     "name": "stdout",
     "output_type": "stream",
     "text": [
      "[[0, 0, 0, 0], [0, 0, 0, 0], [0, 0, 0, 0], [0, 0, 0, 0]]\n"
     ]
    }
   ],
   "source": [
    "#initializing grid size and grid\n",
    "n = 4\n",
    "grid = [[0 for i in range(n)] for j in range(n)]\n",
    "print(grid)"
   ]
  },
  {
   "cell_type": "code",
   "execution_count": 61,
   "id": "f867bd5f",
   "metadata": {},
   "outputs": [
    {
     "name": "stdout",
     "output_type": "stream",
     "text": [
      "0 0 0 0 \n",
      "\n",
      "2 0 2 0 \n",
      "\n",
      "0 0 2 0 \n",
      "\n",
      "0 0 2 0 \n",
      "\n"
     ]
    }
   ],
   "source": [
    "for i in range(n):\n",
    "    for j in range(n):\n",
    "        print(grid[i][j], end = \" \")\n",
    "    print(\"\\n\")"
   ]
  },
  {
   "cell_type": "markdown",
   "id": "4f156728",
   "metadata": {},
   "source": [
    "'W' or 'w' : Move Up\n",
    "'S' or 's' : Move Down\n",
    "'A' or 'a' : Move Left\n",
    "'D' or 'd' : Move Right\n",
    "[0, 0, 0, 0]\n",
    "[0, 0, 0, 0]\n",
    "[0, 0, 0, 0]\n",
    "[0, 0, 2, 0]\n",
    "Press the command : a"
   ]
  },
  {
   "cell_type": "code",
   "execution_count": null,
   "id": "c6780bd9",
   "metadata": {},
   "outputs": [],
   "source": [
    "#How this game works\n",
    "\n",
    "# it require player to move up/down/left/right\n",
    "# after moves toward a direction, all the cell will sum to the one on the right\n",
    "# but if there's no numeber on that direction, then it will shift to the side.\n",
    "# \n",
    "\n",
    "# Winning condition\n",
    "# Losing condition"
   ]
  },
  {
   "cell_type": "markdown",
   "id": "2187fce7",
   "metadata": {},
   "source": [
    "## random generate a 2 in the matrix for a cell with 0."
   ]
  },
  {
   "cell_type": "code",
   "execution_count": null,
   "id": "6a980409",
   "metadata": {},
   "outputs": [],
   "source": [
    "import random\n",
    "def add_new_2(mat):\n",
    "\n",
    "# choosing a random index for\n",
    "# row and column.\n",
    "    ....\n",
    "    ....\n",
    "\n",
    "    # while loop will break as the\n",
    "    # random cell chosen will be empty\n",
    "    # (or contains zero)\n",
    "    \n",
    "    ....\n",
    "    ....\n",
    "    ....\n",
    "        \n",
    "    # we will place a 2 at that empty\n",
    "    # random cell.\n",
    "    mat[r][c] = 2\n",
    "    return mat"
   ]
  },
  {
   "cell_type": "markdown",
   "id": "ffce77c0",
   "metadata": {},
   "source": [
    "### move right"
   ]
  },
  {
   "cell_type": "code",
   "execution_count": null,
   "id": "8d7786fd",
   "metadata": {},
   "outputs": [],
   "source": [
    "case 1:\n",
    "[0, 0, 0, 0]     [0, 0, 0, 0]\n",
    "[0, 0, 0, 0]     [0, 0, 0, 0]\n",
    "[0, 0, 0, 0]     [0, 0, 0, 0]\n",
    "[0, 2, 0, 0]     [0, 0, 0, 2]  "
   ]
  },
  {
   "cell_type": "code",
   "execution_count": null,
   "id": "a50698be",
   "metadata": {},
   "outputs": [],
   "source": [
    "case 2:\n",
    "[0, 0, 0, 0]     [0, 0, 0, 0]\n",
    "[0, 0, 0, 0]     [0, 0, 0, 0]\n",
    "[0, 0, 0, 0]     [0, 0, 0, 0]\n",
    "[0, 2, 2, 2]     [0, 0, 2, 4]    "
   ]
  },
  {
   "cell_type": "code",
   "execution_count": null,
   "id": "f9771043",
   "metadata": {},
   "outputs": [],
   "source": [
    "case 3:\n",
    "[0, 0, 0, 0]     [0, 0, 0, 0]\n",
    "[0, 0, 0, 0]     [0, 0, 0, 0]\n",
    "[0, 0, 0, 0]     [0, 0, 0, 0]\n",
    "[0, 2, 2, 0]     [0, 0, 0, 4]    "
   ]
  },
  {
   "cell_type": "code",
   "execution_count": null,
   "id": "859bd0ce",
   "metadata": {},
   "outputs": [],
   "source": [
    "case 4:\n",
    "[0, 0, 0, 0]     [0, 0, 0, 0]\n",
    "[0, 0, 0, 0]     [0, 0, 0, 0]\n",
    "[0, 0, 0, 0]     [0, 0, 0, 0]\n",
    "[2, 2, 0, 2]     [0, 0, 2, 4]"
   ]
  },
  {
   "cell_type": "code",
   "execution_count": null,
   "id": "dd9a3187",
   "metadata": {},
   "outputs": [],
   "source": [
    "case 5:\n",
    "[0, 0, 0, 0]     [0, 0, 0, 0]\n",
    "[0, 0, 0, 0]     [0, 0, 0, 0]\n",
    "[0, 0, 0, 0]     [0, 0, 0, 0]\n",
    "[2, 4, 2, 2]     [0, 2, 4, 4]  "
   ]
  },
  {
   "cell_type": "code",
   "execution_count": null,
   "id": "3f8c776c",
   "metadata": {},
   "outputs": [],
   "source": [
    "case 6:\n",
    "[0, 0, 0, 0]     [0, 0, 0, 0]\n",
    "[0, 0, 0, 0]     [0, 0, 0, 0]\n",
    "[0, 0, 0, 0]     [0, 0, 0, 0]\n",
    "[2, 2, 2, 2]     [0, 0, 4, 4]  "
   ]
  },
  {
   "cell_type": "code",
   "execution_count": 55,
   "id": "09ff472f",
   "metadata": {},
   "outputs": [],
   "source": []
  },
  {
   "cell_type": "code",
   "execution_count": 186,
   "id": "72d2c4d1",
   "metadata": {},
   "outputs": [],
   "source": [
    "#the one on the side to side\n",
    "\n",
    "def move_right(mat):\n",
    "    \n",
    "    #step 1: 0 on the right hand side, or 0 in the middle put all the numbers toward\n",
    "    \n",
    "                        \n",
    "                \n",
    "    #step 2: if the right and left are the same, add them together\n",
    "    \n",
    "    \n",
    "    #step 3: basically the same. as step 1, but only checking the left 3 cell,\n",
    "    #        and remove the zeros.\n",
    "    \n",
    "    \n",
    "    return mat"
   ]
  },
  {
   "cell_type": "code",
   "execution_count": 187,
   "id": "f8af9af1",
   "metadata": {},
   "outputs": [
    {
     "data": {
      "text/plain": [
       "[[2, 2, 0, 2], [2, 0, 2, 2], [2, 2, 0, 0], [2, 4, 2, 0]]"
      ]
     },
     "execution_count": 187,
     "metadata": {},
     "output_type": "execute_result"
    }
   ],
   "source": [
    "grid[0][0]=2\n",
    "grid[0][1]=2\n",
    "grid[0][2]=0\n",
    "grid[0][3]=2\n",
    "grid[1][0]=2\n",
    "grid[1][1]=0\n",
    "grid[1][2]=2\n",
    "grid[1][3]=2\n",
    "grid[2][0]=2\n",
    "grid[2][1]=2\n",
    "grid[2][2]=0\n",
    "grid[2][3]=0\n",
    "grid[3][0]=2\n",
    "grid[3][1]=4\n",
    "grid[3][2]=2\n",
    "grid[3][3]=0\n",
    "grid"
   ]
  },
  {
   "cell_type": "code",
   "execution_count": 188,
   "id": "492e95c2",
   "metadata": {},
   "outputs": [
    {
     "data": {
      "text/plain": [
       "[[0, 0, 2, 4], [0, 0, 2, 4], [0, 0, 0, 4], [0, 2, 4, 2]]"
      ]
     },
     "execution_count": 188,
     "metadata": {},
     "output_type": "execute_result"
    }
   ],
   "source": [
    "move_right(grid)"
   ]
  },
  {
   "cell_type": "code",
   "execution_count": 189,
   "id": "7f5d1e9e",
   "metadata": {},
   "outputs": [],
   "source": [
    "# function to reverse the matrix\n",
    "# means reversing the content of\n",
    "# each row (reversing the sequence)\n",
    "def reverse(mat):\n",
    "\tnew_mat =[]\n",
    "\tfor i in range(4):\n",
    "\t\tnew_mat.append([])\n",
    "\t\tfor j in range(4):\n",
    "\t\t\tnew_mat[i].append(mat[i][3 - j])\n",
    "\treturn new_mat\n",
    "\n",
    "# function to get the transpose\n",
    "# of matrix means interchanging\n",
    "# rows and column\n",
    "def transpose(mat):\n",
    "\tnew_mat = []\n",
    "\tfor i in range(4):\n",
    "\t\tnew_mat.append([])\n",
    "\t\tfor j in range(4):\n",
    "\t\t\tnew_mat[i].append(mat[j][i])\n",
    "\treturn new_mat"
   ]
  },
  {
   "cell_type": "code",
   "execution_count": 210,
   "id": "998c3d53",
   "metadata": {},
   "outputs": [
    {
     "name": "stdout",
     "output_type": "stream",
     "text": [
      "[[2, 2, 0, 2], [2, 0, 2, 2], [2, 2, 0, 0], [2, 4, 2, 0]]\n"
     ]
    },
    {
     "data": {
      "text/plain": [
       "[[0, 0, 0, 0], [0, 0, 0, 0], [4, 4, 0, 0], [4, 4, 4, 4]]"
      ]
     },
     "execution_count": 210,
     "metadata": {},
     "output_type": "execute_result"
    }
   ],
   "source": [
    "print(grid)\n",
    "move_top(grid)"
   ]
  },
  {
   "cell_type": "code",
   "execution_count": 200,
   "id": "f4927d32",
   "metadata": {},
   "outputs": [],
   "source": [
    "def move_left(mat):\n",
    "    #hint reverse\n",
    "\n",
    "    return mat"
   ]
  },
  {
   "cell_type": "code",
   "execution_count": 209,
   "id": "229289cd",
   "metadata": {},
   "outputs": [],
   "source": [
    "def move_top(mat):\n",
    "    #hint transpose\n",
    "\n",
    "    return mat"
   ]
  },
  {
   "cell_type": "code",
   "execution_count": null,
   "id": "8fb68062",
   "metadata": {},
   "outputs": [],
   "source": [
    "def move_down(mat):\n",
    "    #hint transpose\n",
    "    \n",
    "    return mat"
   ]
  },
  {
   "cell_type": "code",
   "execution_count": 27,
   "id": "e6e0f2fa",
   "metadata": {},
   "outputs": [],
   "source": []
  },
  {
   "cell_type": "code",
   "execution_count": 47,
   "id": "035f5555",
   "metadata": {},
   "outputs": [],
   "source": [
    "# function to initialize game / grid\n",
    "# at the start\n",
    "def start_game():\n",
    "\n",
    "\t# declaring an empty list then\n",
    "\t# appending 4 list each with four\n",
    "\t# elements as 0.\n",
    "\tmat = [[0 for i in range(n)] for j in range(n)]\n",
    "\n",
    "\t# printing controls for user\n",
    "\tprint(\"Commands are as follows : \")\n",
    "\tprint(\"'W' or 'w' : Move Up\")\n",
    "\tprint(\"'S' or 's' : Move Down\")\n",
    "\tprint(\"'A' or 'a' : Move Left\")\n",
    "\tprint(\"'D' or 'd' : Move Right\")\n",
    "\n",
    "\t# calling the function to add\n",
    "\t# a new 2 in grid after every step\n",
    "\tadd_new_2(mat)\n",
    "\tadd_new_2(mat)\n",
    "\tfor i in range(n):\n",
    "\t\tfor j in range(n):\n",
    "\t\t\tprint(mat[i][j], end = \" \")\n",
    "\t\tprint(\"\\n\")\n",
    "\treturn mat"
   ]
  },
  {
   "cell_type": "code",
   "execution_count": 48,
   "id": "c19a3384",
   "metadata": {},
   "outputs": [
    {
     "name": "stdout",
     "output_type": "stream",
     "text": [
      "Commands are as follows : \n",
      "'W' or 'w' : Move Up\n",
      "'S' or 's' : Move Down\n",
      "'A' or 'a' : Move Left\n",
      "'D' or 'd' : Move Right\n",
      "0 0 0 0 \n",
      "\n",
      "0 2 0 0 \n",
      "\n",
      "0 0 0 0 \n",
      "\n",
      "0 0 0 2 \n",
      "\n"
     ]
    }
   ],
   "source": [
    "mat=start_game()"
   ]
  },
  {
   "cell_type": "markdown",
   "id": "13d9bb9d",
   "metadata": {},
   "source": [
    "# Winning/Losing Condition"
   ]
  },
  {
   "cell_type": "code",
   "execution_count": null,
   "id": "25bf310a",
   "metadata": {},
   "outputs": [],
   "source": [
    "# function to get the current\n",
    "# state of game\n",
    "def check_state(mat):\n",
    "\n",
    "    # if any cell contains\n",
    "    # 2048 we have won\n",
    "    for i in range(4):\n",
    "        for j in range(4):\n",
    "            ...\n",
    "\n",
    "    # if we are still left with\n",
    "    # atleast one empty cell\n",
    "    # game is not yet over\n",
    "    for i in range(4):\n",
    "        for j in range(4):\n",
    "            ....\n",
    "            \n",
    "            return 'GAME NOT OVER'\n",
    "    # or if no cell is empty now\n",
    "    # but if after any move left, right,\n",
    "    # up or down, if any two cells\n",
    "    # gets merged and create an empty\n",
    "    # cell then also game is not yet over\n",
    "    for i in range(4):\n",
    "        for j in range(3):\n",
    "            ....\n",
    "            ....\n",
    "                return 'GAME NOT OVER'\n",
    "\n",
    "    for j in range(3):\n",
    "        ...\n",
    "            return 'GAME NOT OVER'\n",
    "\n",
    "    for i in range(3):\n",
    "        ...\n",
    "            return 'GAME NOT OVER'\n",
    "        \n",
    "    #Alternative way check\n",
    "\n",
    "    # else we have lost the game\n",
    "    return 'LOST'"
   ]
  },
  {
   "cell_type": "code",
   "execution_count": null,
   "id": "efc00acb",
   "metadata": {},
   "outputs": [],
   "source": [
    "# calling start_game function\n",
    "# to initialize the matrix\n",
    "mat = start_game()\n",
    "while(True):\n",
    " \n",
    "    # taking the user input\n",
    "    # for next step\n",
    "    x = input(\"Press the command : \")\n",
    "    \n",
    "    # we have to move up\n",
    "    if(x == 'W' or x == 'w'):\n",
    " \n",
    "        # call the move_up function\n",
    "        mat = move_top(mat)\n",
    " \n",
    "        # get the current state and print it\n",
    "        status = check_state(mat)\n",
    "        print(status)\n",
    "        # if game not ove then continue\n",
    "        # and add a new two\n",
    "        if(status == 'GAME NOT OVER'):\n",
    "            add_new_2(mat)\n",
    "        # else break the loop\n",
    "        else:\n",
    "            break\n",
    " \n",
    "    # the above process will be followed\n",
    "    # in case of each type of move\n",
    "    # below\n",
    " \n",
    "    # to move down\n",
    "    elif(x == 'S' or x == 's'):\n",
    "        mat = move_down(mat)\n",
    "        status = check_state(mat)\n",
    "        print(status)\n",
    "        if(status == 'GAME NOT OVER'):\n",
    "            add_new_2(mat)\n",
    "        else:\n",
    "            break\n",
    " \n",
    "    # to move left\n",
    "    elif(x == 'A' or x == 'a'):\n",
    "        mat = move_left(mat)\n",
    "        status = check_state(mat)\n",
    "        print(status)\n",
    "        if(status == 'GAME NOT OVER'):\n",
    "            add_new_2(mat)\n",
    "        else:\n",
    "            break\n",
    " \n",
    "    # to move right\n",
    "    elif(x == 'D' or x == 'd'):\n",
    "        mat = move_right(mat)\n",
    "        status = check_state(mat)\n",
    "        print(status)\n",
    "        if(status == 'GAME NOT OVER'):\n",
    "            add_new_2(mat)\n",
    "        else:\n",
    "            break\n",
    "    else:\n",
    "        print(\"Invalid Key Pressed\")\n",
    "        print(\"Please enter 'w' as top, 's' as down, 'a' as left, and 'd' as right.\")\n",
    "        continue\n",
    "    # print the matrix after each\n",
    "    # move.\n",
    "    for i in range(4):\n",
    "        for j in range(4):\n",
    "            print(mat[i][j], end = \" \")\n",
    "        print(\"\\n\")"
   ]
  },
  {
   "cell_type": "code",
   "execution_count": null,
   "id": "32fdd643",
   "metadata": {},
   "outputs": [],
   "source": [
    "     \n",
    "# calling start_game function\n",
    "# to initialize the matrix\n",
    "mat = start_game()\n",
    "while(True):\n",
    " \n",
    "    # taking the user input\n",
    "    # for next step\n",
    "    \n",
    "    x = input(\"Press the command : \")\n",
    "    \n",
    "    # we have to move up\n",
    "    if(x == 'W' or x == 'w'):\n",
    " \n",
    "        # call the move_up function\n",
    "        mat = move_top(mat)\n",
    " \n",
    "        # get the current state and print it\n",
    "        status = check_state(mat)\n",
    "        print(status)\n",
    " \n",
    "        # if game not ove then continue\n",
    "        # and add a new two\n",
    "        if(status == 'GAME NOT OVER'):\n",
    "            add_new_2(mat)\n",
    "        # else break the loop\n",
    "        else:\n",
    "            break\n",
    " \n",
    "    # the above process will be followed\n",
    "    # in case of each type of move\n",
    "    # below\n",
    " \n",
    "    # to move down\n",
    "    elif(x == 'S' or x == 's'):\n",
    "        mat = move_down(mat)\n",
    "        status = check_state(mat)\n",
    "        print(status)\n",
    "        if(status == 'GAME NOT OVER'):\n",
    "            add_new_2(mat)\n",
    "        else:\n",
    "            break\n",
    " \n",
    "    # to move left\n",
    "    elif(x == 'A' or x == 'a'):\n",
    "        mat = move_left(mat)\n",
    "        status = check_state(mat)\n",
    "        print(status)\n",
    "        if(status == 'GAME NOT OVER'):\n",
    "            add_new_2(mat)\n",
    "        else:\n",
    "            break\n",
    " \n",
    "    # to move right\n",
    "    elif(x == 'D' or x == 'd'):\n",
    "        mat = move_right(mat)\n",
    "        status = check_state(mat)\n",
    "        print(status)\n",
    "        if(status == 'GAME NOT OVER'):\n",
    "            add_new_2(mat)\n",
    "        else:\n",
    "            break\n",
    "    else:\n",
    "        print(\"Invalid Key Pressed\")\n",
    " \n",
    "    # print the matrix after each\n",
    "    # move.\n",
    "    for i in range(4):\n",
    "        for j in range(4):\n",
    "            print(mat[i][j], end = \" \")\n",
    "        print(\"\\n\")"
   ]
  },
  {
   "cell_type": "code",
   "execution_count": null,
   "id": "b507a205",
   "metadata": {},
   "outputs": [],
   "source": []
  },
  {
   "cell_type": "code",
   "execution_count": null,
   "id": "e830944a",
   "metadata": {},
   "outputs": [],
   "source": []
  }
 ],
 "metadata": {
  "kernelspec": {
   "display_name": "Python 3 (ipykernel)",
   "language": "python",
   "name": "python3"
  },
  "language_info": {
   "codemirror_mode": {
    "name": "ipython",
    "version": 3
   },
   "file_extension": ".py",
   "mimetype": "text/x-python",
   "name": "python",
   "nbconvert_exporter": "python",
   "pygments_lexer": "ipython3",
   "version": "3.9.12"
  }
 },
 "nbformat": 4,
 "nbformat_minor": 5
}
