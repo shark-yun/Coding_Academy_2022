{
 "cells": [
  {
   "cell_type": "markdown",
   "id": "0fdc6380",
   "metadata": {},
   "source": [
    "# Tic Tac Toe "
   ]
  },
  {
   "cell_type": "code",
   "execution_count": 2,
   "id": "7ffaf67c",
   "metadata": {},
   "outputs": [
    {
     "name": "stdout",
     "output_type": "stream",
     "text": [
      "[['.', '.', '.'], ['.', '.', '.'], ['.', '.', '.']]\n"
     ]
    }
   ],
   "source": [
    "#initializing grid size and grid\n",
    "n = 3\n",
    "\n",
    "#list Comprehension\n",
    "grid = [[\".\" for i in range(n)] for j in range(n)]\n",
    "print(grid)"
   ]
  },
  {
   "cell_type": "code",
   "execution_count": 3,
   "id": "1f2664a9",
   "metadata": {
    "scrolled": true
   },
   "outputs": [
    {
     "name": "stdout",
     "output_type": "stream",
     "text": [
      ". . . \n",
      "\n",
      ". . . \n",
      "\n",
      ". . . \n",
      "\n"
     ]
    }
   ],
   "source": [
    "for i in range(n):\n",
    "    for j in range(n):\n",
    "        print(grid[i][j], end = \" \")\n",
    "    print(\"\\n\")"
   ]
  },
  {
   "cell_type": "code",
   "execution_count": 12,
   "id": "d8e5fb14",
   "metadata": {},
   "outputs": [
    {
     "data": {
      "text/plain": [
       "2"
      ]
     },
     "execution_count": 12,
     "metadata": {},
     "output_type": "execute_result"
    }
   ],
   "source": [
    "x='a 3'\n",
    "len(x.split())"
   ]
  },
  {
   "cell_type": "markdown",
   "id": "929899c5",
   "metadata": {},
   "source": [
    "## 1. Error Handle:\n",
    "#### - 1.1: check input: if input coordinate is valid\n",
    "        hints: think about relationship between current_move and coords\n",
    "        -1. data type\n",
    "        -2. range\n",
    "        -3. coords length\n",
    "        \n",
    "#### - 1.2: check input: if input coordinate already filled\n",
    "\n",
    "\n",
    "## 2. Winning Condition:\n",
    "#### -2.1 horiztonal line\n",
    "#### -2.2 vertical line\n",
    "#### -2.3 diagonalize line"
   ]
  },
  {
   "cell_type": "code",
   "execution_count": 22,
   "id": "b10623c9",
   "metadata": {},
   "outputs": [
    {
     "name": "stdout",
     "output_type": "stream",
     "text": [
      "Player X, please enter your move:2 0\n",
      ". . . \n",
      "\n",
      ". . . \n",
      "\n",
      "X . . \n",
      "\n",
      "Player O, please enter your move:0 0\n",
      "O . . \n",
      "\n",
      ". . . \n",
      "\n",
      "X . . \n",
      "\n",
      "Player X, please enter your move:1 1\n",
      "O . . \n",
      "\n",
      ". X . \n",
      "\n",
      "X . . \n",
      "\n",
      "Player O, please enter your move:0 1\n",
      "O O . \n",
      "\n",
      ". X . \n",
      "\n",
      "X . . \n",
      "\n",
      "Player X, please enter your move:0 2\n",
      "X wins\n",
      "O O X \n",
      "\n",
      ". X . \n",
      "\n",
      "X . . \n",
      "\n"
     ]
    }
   ],
   "source": [
    "#initializing grid size and grid\n",
    "n = 3\n",
    "grid = [[\".\" for i in range(n)] for j in range(n)]\n",
    "\n",
    "#start of game since turn = 0\n",
    "turn = 0\n",
    "while turn < 10:\n",
    "    if turn % 2 == 0:\n",
    "        player = \"X\"\n",
    "    else:\n",
    "        player = \"O\"\n",
    "\n",
    "#prompt user for input and keep track of turns\n",
    "    current_move = input(\"Player \" + player + \", please enter your move:\")\n",
    "        \n",
    "#condition to end game\n",
    "    if current_move == \"I win!\":\n",
    "        print(\"good job\")\n",
    "        turn = 10\n",
    "    else:\n",
    "            #split coords\n",
    "        coords = current_move.split()\n",
    "#check if input is ok\n",
    "        #1.1\n",
    "        if len(coords)!=2:\n",
    "            print('The input is not in correct format. Ex:\"1 1\"')\n",
    "            continue\n",
    "        try:\n",
    "            coords[0]=int(coords[0])\n",
    "            coords[1]=int(coords[1])\n",
    "        except ValueError:\n",
    "            print('Please enter number between 0 to 2. Ex:\"1 1\"')\n",
    "            continue\n",
    "        if coords[0]>2 or coords[0]<0:\n",
    "            print('Please enter number between 0 to 2. Ex:\"1 1\"')\n",
    "            continue\n",
    "        if coords[1]>2 or coords[1]<0:\n",
    "            print('Please enter number between 0 to 2. Ex:\"1 1\"')\n",
    "            continue\n",
    "        #1.2 \n",
    "        if grid[int(coords[0])][int(coords[1])] == \"O\" or grid[int(coords[0])][int(coords[1])] == \"X\":\n",
    "            print('The place is filled. Please enter in a blank spot.')\n",
    "            continue\n",
    "            \n",
    "            #update grid\n",
    "        grid[int(coords[0])][int(coords[1])] = player\n",
    "        turn += 1\n",
    "            \n",
    "        #winning condition \n",
    "        # Hori\n",
    "        for i in range(n):\n",
    "            xcount=0\n",
    "            ocount=0\n",
    "            for j in range(n):\n",
    "                if grid[i][j]=='X':\n",
    "                    xcount+=1\n",
    "                if grid[i][j]=='O':\n",
    "                    ocount+=1\n",
    "            if xcount==3:\n",
    "                print(player, 'wins')\n",
    "                turn = 10\n",
    "            elif ocount==3:\n",
    "                print(player, 'wins')\n",
    "                turn = 10\n",
    "        \n",
    "        \n",
    "        \n",
    "        # Verti \n",
    "        for i in range(n):\n",
    "            xcount=0\n",
    "            ocount=0\n",
    "            for j in range(n):\n",
    "                if grid[j][i]=='X':\n",
    "                    xcount+=1\n",
    "                if grid[j][i]=='O':\n",
    "                    ocount+=1\n",
    "            if xcount==3:\n",
    "                print(player, 'wins')\n",
    "                turn = 10\n",
    "            elif ocount==3:\n",
    "                print(player, 'wins')\n",
    "                turn = 10\n",
    "        \n",
    "        \n",
    "        \n",
    "        \n",
    "        #Diagon \n",
    "        xdcount=0\n",
    "        odcount=0\n",
    "        xd2count=0\n",
    "        od2count=0\n",
    "        for i in range(n):\n",
    "            \n",
    "            if grid[i][i]=='X':\n",
    "                xdcount+=1\n",
    "            if grid[i][i]=='O':\n",
    "                odcount+=1\n",
    "            if grid[len(grid)-1-i][i]=='X':\n",
    "                xd2count+=1\n",
    "            if grid[len(grid)-1-i][i]=='O':\n",
    "                od2count+=1    \n",
    "                \n",
    "                \n",
    "                \n",
    "            if xdcount==3 or xd2count==3:\n",
    "                print(player, 'wins')\n",
    "                turn = 10\n",
    "            elif odcount==3 or od2count==3:\n",
    "                print(player, 'wins')\n",
    "                turn = 10\n",
    "        \n",
    "        \n",
    "        \n",
    "        \n",
    "            #print grid\n",
    "        for i in range(n):\n",
    "            for j in range(n):\n",
    "                print(grid[i][j], end = \" \")\n",
    "            print(\"\\n\")\n"
   ]
  },
  {
   "cell_type": "code",
   "execution_count": null,
   "id": "1fff331e",
   "metadata": {},
   "outputs": [],
   "source": []
  }
 ],
 "metadata": {
  "kernelspec": {
   "display_name": "Python 3 (ipykernel)",
   "language": "python",
   "name": "python3"
  },
  "language_info": {
   "codemirror_mode": {
    "name": "ipython",
    "version": 3
   },
   "file_extension": ".py",
   "mimetype": "text/x-python",
   "name": "python",
   "nbconvert_exporter": "python",
   "pygments_lexer": "ipython3",
   "version": "3.9.13"
  }
 },
 "nbformat": 4,
 "nbformat_minor": 5
}
