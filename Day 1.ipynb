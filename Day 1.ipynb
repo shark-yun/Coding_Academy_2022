{
 "cells": [
  {
   "cell_type": "code",
   "execution_count": null,
   "id": "671f918b",
   "metadata": {},
   "outputs": [],
   "source": [
    "Welcome to Coding Academy"
   ]
  },
  {
   "cell_type": "markdown",
   "id": "1fe24724",
   "metadata": {},
   "source": [
    "# Ice Breaker"
   ]
  },
  {
   "cell_type": "code",
   "execution_count": null,
   "id": "62397803",
   "metadata": {},
   "outputs": [],
   "source": [
    "Brief Intro,\n",
    "Tell us\n",
    "-Your name, what you prefer\n",
    "-Why you here\n",
    "-What grade you are, and your major plan?\n",
    "-one of your habit\n",
    "-one weird fact about you"
   ]
  },
  {
   "cell_type": "code",
   "execution_count": null,
   "id": "2ff7d867",
   "metadata": {},
   "outputs": [],
   "source": [
    "write on paper, what's your expectation from this camp"
   ]
  },
  {
   "cell_type": "markdown",
   "id": "a8315757",
   "metadata": {},
   "source": [
    "# Why Python?"
   ]
  },
  {
   "cell_type": "markdown",
   "id": "f3400597",
   "metadata": {},
   "source": [
    "you can google up, there are alot reasons you may conclude why python,\n",
    "\n",
    "such: https://www.upgrad.com/blog/reasons-why-python-popular-with-developers/"
   ]
  },
  {
   "cell_type": "markdown",
   "id": "98134e01",
   "metadata": {},
   "source": [
    "# What is Jupyter Notebook?"
   ]
  },
  {
   "cell_type": "markdown",
   "id": "f494aa2a",
   "metadata": {},
   "source": [
    "The Jupyter Notebook is the original web application for creating and sharing computational documents. It offers a simple, streamlined, document-centric experience."
   ]
  },
  {
   "cell_type": "markdown",
   "id": "b8eef8f9",
   "metadata": {},
   "source": [
    "# Download Jupyter notebook"
   ]
  },
  {
   "cell_type": "markdown",
   "id": "7e99f006",
   "metadata": {},
   "source": [
    "You will need access to a working copy of Python on the computer you typically use for your assignments.\n",
    "\n",
    "This quarter we will use Anaconda and Jupyter Notebook. Anaconda is a distribution of Python because there are many ways to obtain Python and we like their distribution for teaching.  Jupyter Notebook is a web app which is very much like an R Markdown file in RStudio.\n",
    "\n",
    "You can find instructions on installing Anaconda on the web, for example, here is a Windows install from YouTube:\n",
    "\n",
    "https://www.youtube.com/watch?v=FTkUcSicRIA (Links to an external site.)\n",
    "\n",
    "and for MacOS:\n",
    "\n",
    "https://www.youtube.com/watch?v=oWVTO_69U4c"
   ]
  },
  {
   "cell_type": "code",
   "execution_count": null,
   "id": "a5adec8f",
   "metadata": {},
   "outputs": [],
   "source": [
    "# windows\n",
    "https://www.geeksforgeeks.org/how-to-install-jupyter-notebook-in-windows/"
   ]
  },
  {
   "cell_type": "code",
   "execution_count": null,
   "id": "16108fbc",
   "metadata": {},
   "outputs": [],
   "source": []
  },
  {
   "cell_type": "code",
   "execution_count": null,
   "id": "c3da254a",
   "metadata": {},
   "outputs": [],
   "source": [
    "# mac\n",
    "https://www.geeksforgeeks.org/how-to-install-jupyter-notebook-on-macos/?ref=rp"
   ]
  },
  {
   "cell_type": "code",
   "execution_count": null,
   "id": "0ea37e71",
   "metadata": {},
   "outputs": [],
   "source": []
  },
  {
   "cell_type": "markdown",
   "id": "1d9f5011",
   "metadata": {},
   "source": [
    "# Data Type\n",
    "## Numeric type\n",
    "### - int, float, bool, complex\n",
    "## String type\n",
    "### - str\n",
    "## Container type\n",
    "### list, set, dict, tuple"
   ]
  },
  {
   "cell_type": "markdown",
   "id": "43cd0785",
   "metadata": {},
   "source": [
    "# Variable Names\n",
    "### A variable can have a short name (like x and y) or a more descriptive name (age, carname, total_volume).\n",
    "\n",
    "## Rules for Python variables:\n",
    "\n",
    "### A variable name must start with a letter or the underscore character\n",
    "### A variable name cannot start with a number\n",
    "### A variable name can only contain alpha-numeric characters and underscores (A-z, 0-9, and _ )\n",
    "### Variable names are case-sensitive (age, Age and AGE are three different variables)"
   ]
  },
  {
   "cell_type": "code",
   "execution_count": null,
   "id": "8a1b8873",
   "metadata": {},
   "outputs": [],
   "source": [
    "#Legal variable names:\n",
    "myvar = \"John\"\n",
    "my_var = \"John\"\n",
    "_my_var = \"John\"\n",
    "myVar = \"John\"\n",
    "MYVAR = \"John\"\n",
    "myvar2 = \"John\"\n",
    "\n",
    "#Illegal variable names:\n",
    "2myvar = \"John\"\n",
    "my-var = \"John\"\n",
    "my var = \"John\""
   ]
  },
  {
   "cell_type": "code",
   "execution_count": 2,
   "id": "ddbd1b92",
   "metadata": {},
   "outputs": [
    {
     "name": "stdout",
     "output_type": "stream",
     "text": [
      "<class 'int'>\n",
      "<class 'float'>\n",
      "<class 'complex'>\n",
      "<class 'bool'>\n"
     ]
    }
   ],
   "source": [
    "# int, means integar = whole number \n",
    "a = 5 \n",
    "print(type(a))#<class 'int'>\n",
    "\n",
    "# float, the number come with decimal, and Python 3 doesnt have type double\n",
    "b = 5.087\n",
    "print(type(b))#<class 'float'>\n",
    "\n",
    "#complex, in python use j instead of the common imaginary number i we see.\n",
    "c = 5j\n",
    "print(type(c))#<class 'complex'>\n",
    "\n",
    "# boolean, which is the True/False\n",
    "d = True\n",
    "print(type(d))#<class 'bool'>"
   ]
  },
  {
   "cell_type": "markdown",
   "id": "963a5099",
   "metadata": {},
   "source": [
    "<h2>INTEGERS or INTs</h2>\n",
    "\n",
    "#### What is an Integer?\n",
    "An integer is a whole number (not a fraction) that can be positive, negative or zero.\n",
    "<br>\n",
    "<br>\n",
    "#### Why do we use Integers?\n",
    "Integers are a commonly used data type in programming as they are efficient to store and are generally used in loops and indexing strings or lists. \n",
    "<br>\n",
    "<br>\n",
    "#### How do we use Integers?\n",
    "Integers are assigned to variables using a single equals and are standalone numbers without a decimal point or an operation that does not return a whole number."
   ]
  },
  {
   "cell_type": "code",
   "execution_count": null,
   "id": "d39d9c3e",
   "metadata": {},
   "outputs": [],
   "source": [
    "int_1 = 1\n",
    "int_2 = -2\n",
    "int_3 = 10 / 2\n",
    "int_4 = 10 // 2\n",
    "\n",
    "print(int_1, int_2)\n",
    "print(int_3)\n",
    "print(int_4)\n",
    "type(int_1)"
   ]
  },
  {
   "cell_type": "markdown",
   "id": "a650d299",
   "metadata": {},
   "source": [
    "<h2>FLOATING-POINT NUMBERS or FLOATS</h2>\n",
    "\n",
    "#### What is a Float?\n",
    "A float is a floating-point number that contains a decimal point. Compared to Integers, they require more space in memory as you will have two integers separated by a decimal point.\n",
    "<br>\n",
    "<br>\n",
    "#### Why do we use Floats?\n",
    "Computers recognize real numbers that contain fractions as floating point numbers. Floats are useful for numbers that require a great deal of precision, such as calculations in engineering or microchip manufacturing.\n",
    "<br>\n",
    "<br>\n",
    "#### How do we use Floats?\n",
    "Floats are assigned to variables using a single equals and are standalone numbers that contain a decimal point or the result of an operation that returns a decimal number."
   ]
  },
  {
   "cell_type": "code",
   "execution_count": null,
   "id": "ee21845b",
   "metadata": {},
   "outputs": [],
   "source": [
    "float_1 = 1.0\n",
    "float_2 = 3 / 1\n",
    "print(float_1, float_2)\n",
    "type(float_1)"
   ]
  },
  {
   "cell_type": "markdown",
   "id": "6c245816",
   "metadata": {},
   "source": [
    "# Formatting"
   ]
  },
  {
   "cell_type": "code",
   "execution_count": null,
   "id": "dfc26a25",
   "metadata": {},
   "outputs": [],
   "source": [
    "num=1.2531\n",
    "print('%.2f'%num)"
   ]
  },
  {
   "cell_type": "code",
   "execution_count": 7,
   "id": "366a7ff9",
   "metadata": {},
   "outputs": [
    {
     "name": "stdout",
     "output_type": "stream",
     "text": [
      "1.253\n"
     ]
    }
   ],
   "source": [
    "num=1.2531\n",
    "print('{:.3f}'.format(num))"
   ]
  },
  {
   "cell_type": "markdown",
   "id": "334f9e35",
   "metadata": {},
   "source": [
    "# Random\n",
    "https://docs.python.org/3/library/random.html"
   ]
  },
  {
   "cell_type": "code",
   "execution_count": 20,
   "id": "cca20462",
   "metadata": {},
   "outputs": [
    {
     "data": {
      "text/plain": [
       "0.33482403333552013"
      ]
     },
     "execution_count": 20,
     "metadata": {},
     "output_type": "execute_result"
    }
   ],
   "source": [
    "from random import choices\n",
    "import random\n",
    "random.random()                             # Random float:  0.0 <= x < 1.0"
   ]
  },
  {
   "cell_type": "code",
   "execution_count": 22,
   "id": "0005884b",
   "metadata": {},
   "outputs": [
    {
     "data": {
      "text/plain": [
       "4"
      ]
     },
     "execution_count": 22,
     "metadata": {},
     "output_type": "execute_result"
    }
   ],
   "source": [
    "a=3\n",
    "b=7\n",
    "random.randint(a, b) #Return a random integer N such that a <= N <= b"
   ]
  },
  {
   "cell_type": "code",
   "execution_count": 19,
   "id": "cfe12654",
   "metadata": {},
   "outputs": [
    {
     "data": {
      "text/plain": [
       "['red', 'red', 'red', 'black', 'black', 'black']"
      ]
     },
     "execution_count": 19,
     "metadata": {},
     "output_type": "execute_result"
    }
   ],
   "source": [
    "choices(['red', 'black', 'green'], [18, 18, 2], k=6)"
   ]
  },
  {
   "cell_type": "code",
   "execution_count": null,
   "id": "8e648274",
   "metadata": {},
   "outputs": [],
   "source": []
  },
  {
   "cell_type": "code",
   "execution_count": null,
   "id": "2e96b444",
   "metadata": {},
   "outputs": [],
   "source": []
  },
  {
   "cell_type": "markdown",
   "id": "ced58d68",
   "metadata": {},
   "source": [
    "# Boolean type"
   ]
  },
  {
   "cell_type": "code",
   "execution_count": 17,
   "id": "e66e1474",
   "metadata": {},
   "outputs": [
    {
     "name": "stdout",
     "output_type": "stream",
     "text": [
      "False\n",
      "True\n",
      "True\n"
     ]
    }
   ],
   "source": [
    "a= True\n",
    "b= False\n",
    "print(a&b)\n",
    "print(a|b)\n",
    "print(a or b)\n",
    "print(a and b)"
   ]
  },
  {
   "cell_type": "code",
   "execution_count": null,
   "id": "d87a8f63",
   "metadata": {},
   "outputs": [],
   "source": [
    "x=1\n",
    "y=2\n",
    "print(x < y)\n",
    "print(x > y)\n",
    "print(x==y)\n",
    "print(x!=y)"
   ]
  },
  {
   "cell_type": "code",
   "execution_count": null,
   "id": "439b8464",
   "metadata": {},
   "outputs": [],
   "source": [
    "print(2>1>3)\n",
    "print(3>2>1)\n",
    "print(1<2>3)"
   ]
  },
  {
   "cell_type": "markdown",
   "id": "cea75476",
   "metadata": {},
   "source": [
    "<h2>STRINGS</h2>\n",
    "\n",
    "#### What is a String?\n",
    "A string is a data type that is used to represent text rather than numbers and is composed of a set of characters and can also contain spaces and numbers.\n",
    "<br>\n",
    "<br>\n",
    "#### Why do we use Strings?\n",
    "Strings are useful when storing small or large bodies from single words to full sentences. \n",
    "<br>\n",
    "<br>\n",
    "#### How do we use Strings?\n",
    "Strings are assigned to variables using a single equals and are surrounded by triple quotes `\"\"\" \"\"\"`, double quotes `\" \"` or single quotes `' '`, although triple quotes are generally used for function doc strings so please use the single or double quotes."
   ]
  },
  {
   "cell_type": "code",
   "execution_count": null,
   "id": "be8eab74",
   "metadata": {},
   "outputs": [],
   "source": [
    "string_1 = \"\"\"This is a string\"\"\"    # triple quote\n",
    "string_2 = \"this is another string\"  # double quote\n",
    "string_3 = 'this is also a string'   # single quote\n",
    "\n",
    "print(string_3)\n",
    "type(string_1)"
   ]
  },
  {
   "cell_type": "markdown",
   "id": "cbe0da27",
   "metadata": {},
   "source": [
    "### Indexing a String ###\n",
    "It is possible to index a string by referencing the position (or index) of a single character, or by referencing a range with a start and end position. Note: indexes start at where the first element is 0."
   ]
  },
  {
   "cell_type": "code",
   "execution_count": null,
   "id": "141ece51",
   "metadata": {},
   "outputs": [],
   "source": [
    "print(string_1)\n",
    "print(string_1[0])\n",
    "print(string_1[5:-3])"
   ]
  },
  {
   "cell_type": "markdown",
   "id": "4676572a",
   "metadata": {},
   "source": [
    "### Two or more string literals (i.e. the ones enclosed between quotes) next to each other are automatically concatenated."
   ]
  },
  {
   "cell_type": "code",
   "execution_count": null,
   "id": "f5d5f594",
   "metadata": {},
   "outputs": [],
   "source": [
    "'Py' 'thon'"
   ]
  },
  {
   "cell_type": "code",
   "execution_count": null,
   "id": "0315a0c8",
   "metadata": {},
   "outputs": [],
   "source": [
    "prefix = 'Py'\n",
    "prefix 'thon'"
   ]
  },
  {
   "cell_type": "code",
   "execution_count": null,
   "id": "d52104ca",
   "metadata": {},
   "outputs": [],
   "source": [
    "prefix + 'thon'"
   ]
  },
  {
   "cell_type": "markdown",
   "id": "1ee8d1f0",
   "metadata": {},
   "source": [
    "# More common use on String"
   ]
  },
  {
   "cell_type": "code",
   "execution_count": null,
   "id": "2f715f1c",
   "metadata": {},
   "outputs": [],
   "source": [
    "x='example'\n",
    "print(len(x))"
   ]
  },
  {
   "cell_type": "code",
   "execution_count": null,
   "id": "efc4693d",
   "metadata": {},
   "outputs": [],
   "source": [
    "x='a123'\n",
    "print(x*3)"
   ]
  },
  {
   "cell_type": "code",
   "execution_count": null,
   "id": "2e021bc4",
   "metadata": {},
   "outputs": [],
   "source": [
    "a='abc'\n",
    "print(a.capitalize())"
   ]
  },
  {
   "cell_type": "code",
   "execution_count": null,
   "id": "1c35fa09",
   "metadata": {},
   "outputs": [],
   "source": [
    "name = input(\"請輸入你的名字?\")\n",
    "print(\"Hello\" , name)\n",
    "print(type(name))"
   ]
  },
  {
   "cell_type": "code",
   "execution_count": 8,
   "id": "610a32ae",
   "metadata": {},
   "outputs": [
    {
     "name": "stdout",
     "output_type": "stream",
     "text": [
      "['123', 'abc']\n"
     ]
    }
   ],
   "source": [
    "a=\"123 abc\"\n",
    "print(a.split(' '))"
   ]
  },
  {
   "cell_type": "code",
   "execution_count": 10,
   "id": "fa7475fe",
   "metadata": {},
   "outputs": [
    {
     "data": {
      "text/plain": [
       "'google'"
      ]
     },
     "execution_count": 10,
     "metadata": {},
     "output_type": "execute_result"
    }
   ],
   "source": [
    "a=\"gccgle\"\n",
    "a.replace('c','o')"
   ]
  },
  {
   "cell_type": "code",
   "execution_count": 11,
   "id": "e76fcd38",
   "metadata": {},
   "outputs": [
    {
     "name": "stdout",
     "output_type": "stream",
     "text": [
      "What is your Habit: jaja\n",
      "My habit is jaja.\n",
      "My habit is jaja.\n"
     ]
    }
   ],
   "source": [
    "habit = input('What is your Habit: ')\n",
    "print('My habit is {habit}.'.format(habit=habit))\n",
    "#print('My habit is {x}.'.format(x=habit))"
   ]
  },
  {
   "cell_type": "markdown",
   "id": "67ed6059",
   "metadata": {},
   "source": [
    "# Interaction between different types"
   ]
  },
  {
   "cell_type": "code",
   "execution_count": null,
   "id": "624b88d4",
   "metadata": {},
   "outputs": [],
   "source": [
    "'1'+1"
   ]
  },
  {
   "cell_type": "code",
   "execution_count": null,
   "id": "92cc14d1",
   "metadata": {},
   "outputs": [],
   "source": [
    "print(1.0+1)\n",
    "print(1+1)"
   ]
  },
  {
   "cell_type": "markdown",
   "id": "cccd2bec",
   "metadata": {},
   "source": [
    "## Casting Data Type"
   ]
  },
  {
   "cell_type": "code",
   "execution_count": null,
   "id": "10e6f3b1",
   "metadata": {},
   "outputs": [],
   "source": [
    "int()\n",
    "str()"
   ]
  },
  {
   "cell_type": "code",
   "execution_count": null,
   "id": "64663e37",
   "metadata": {},
   "outputs": [],
   "source": []
  },
  {
   "cell_type": "code",
   "execution_count": null,
   "id": "fad48301",
   "metadata": {},
   "outputs": [],
   "source": []
  },
  {
   "cell_type": "markdown",
   "id": "87f923ab",
   "metadata": {},
   "source": [
    "# Python short cut"
   ]
  },
  {
   "cell_type": "code",
   "execution_count": null,
   "id": "6bd81725",
   "metadata": {},
   "outputs": [],
   "source": [
    "x=1\n",
    "x+=2\n",
    "x*=2\n",
    "x"
   ]
  },
  {
   "cell_type": "code",
   "execution_count": null,
   "id": "effa500d",
   "metadata": {},
   "outputs": [],
   "source": []
  },
  {
   "cell_type": "code",
   "execution_count": null,
   "id": "e64a1407",
   "metadata": {},
   "outputs": [],
   "source": []
  },
  {
   "cell_type": "code",
   "execution_count": null,
   "id": "da8ce698",
   "metadata": {},
   "outputs": [],
   "source": []
  }
 ],
 "metadata": {
  "kernelspec": {
   "display_name": "Python 3 (ipykernel)",
   "language": "python",
   "name": "python3"
  },
  "language_info": {
   "codemirror_mode": {
    "name": "ipython",
    "version": 3
   },
   "file_extension": ".py",
   "mimetype": "text/x-python",
   "name": "python",
   "nbconvert_exporter": "python",
   "pygments_lexer": "ipython3",
   "version": "3.9.13"
  }
 },
 "nbformat": 4,
 "nbformat_minor": 5
}
