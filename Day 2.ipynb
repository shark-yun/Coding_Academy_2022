{
 "cells": [
  {
   "cell_type": "code",
   "execution_count": 1,
   "id": "4acf34c5",
   "metadata": {},
   "outputs": [
    {
     "data": {
      "text/plain": [
       "['a', 'b', 'c', 'd']"
      ]
     },
     "execution_count": 1,
     "metadata": {},
     "output_type": "execute_result"
    }
   ],
   "source": [
    "x='a b c d'\n",
    "x.split()\n",
    "\n"
   ]
  },
  {
   "cell_type": "markdown",
   "id": "87c3d58e",
   "metadata": {},
   "source": [
    "<h2>LISTS</h2>\n",
    "\n",
    "#### What is a List?\n",
    "Lists are data structures that contain an ordered collection of elements. These elements are generally of the same type and can contain elements such as single data types through to more complex data structures such as other lists or dictionaries.\n",
    "<br>\n",
    "<br>\n",
    "#### Why do we use Lists?\n",
    "Lists are commonly used in programming to store and organize data so it can be easily sorted, indexed or searched.\n",
    "<br>\n",
    "<br>\n",
    "#### How do we use Lists?\n",
    "Lists are assigned to variables using a single equals, are denoted by square brackets, and use a comma to separate elements `[a,b]`.\n",
    "\n",
    "### Creating a List \n",
    "There are two main ways of creating a list. First is to use square brackets,`a=[]` and the second is to use the list type cast `b=list()`."
   ]
  },
  {
   "cell_type": "code",
   "execution_count": 4,
   "id": "89342c6a",
   "metadata": {},
   "outputs": [
    {
     "name": "stdout",
     "output_type": "stream",
     "text": [
      "[]\n",
      "[1, 2, 3]\n",
      "A\n"
     ]
    }
   ],
   "source": [
    "L1= []\n",
    "L2=[1,2,3]\n",
    "L3=['A',2,3]\n",
    "print(L1)\n",
    "print(L2)\n",
    "print(L3[0])#"
   ]
  },
  {
   "cell_type": "markdown",
   "id": "f9b53169",
   "metadata": {},
   "source": [
    "### Accessing items in a List ###\n",
    "You can access list items by referring to the index number of the item. Note: Lists start with an index of 0. \n",
    "\n",
    "You can also use negative indexing to access items from back to front. E.g. -1 is the last item in the list and -2 is second last."
   ]
  },
  {
   "cell_type": "code",
   "execution_count": 8,
   "id": "bac7f9db",
   "metadata": {},
   "outputs": [
    {
     "name": "stdout",
     "output_type": "stream",
     "text": [
      "A\n",
      "3\n"
     ]
    }
   ],
   "source": [
    "print(L3[0])\n",
    "print(L3[-1])"
   ]
  },
  {
   "cell_type": "markdown",
   "id": "c5f73c54",
   "metadata": {},
   "source": [
    "You can also reference index ranges by using the colon between indexes which refer to the start and end of the range e.g. `[start:end]` or if you omit a number on either start (or end), it will include everything from the start (or end) up until the end (or start) e.g. `[:end]` will include the first item until the end index item."
   ]
  },
  {
   "cell_type": "code",
   "execution_count": 11,
   "id": "b6b5f1bc",
   "metadata": {},
   "outputs": [
    {
     "name": "stdout",
     "output_type": "stream",
     "text": [
      "['A', 2, 3]\n",
      "[3]\n"
     ]
    }
   ],
   "source": [
    "print(L3[0:3])\n",
    "print(L3[2:])"
   ]
  },
  {
   "cell_type": "markdown",
   "id": "a27b7f44",
   "metadata": {},
   "source": [
    "### List with List"
   ]
  },
  {
   "cell_type": "code",
   "execution_count": 9,
   "id": "90397df0",
   "metadata": {},
   "outputs": [
    {
     "data": {
      "text/plain": [
       "4"
      ]
     },
     "execution_count": 9,
     "metadata": {},
     "output_type": "execute_result"
    }
   ],
   "source": [
    "a=[1,2,[3,4]]\n",
    "a[2][1]"
   ]
  },
  {
   "cell_type": "code",
   "execution_count": null,
   "id": "4d5a5625",
   "metadata": {},
   "outputs": [],
   "source": [
    "L4=[1,'B',[1,2,3]]\n",
    "print(L4)\n",
    "print(L4[2][1]) "
   ]
  },
  {
   "cell_type": "markdown",
   "id": "a0f8d6b6",
   "metadata": {},
   "source": [
    "### list( )"
   ]
  },
  {
   "cell_type": "code",
   "execution_count": 16,
   "id": "e3bbc766",
   "metadata": {},
   "outputs": [
    {
     "data": {
      "text/plain": [
       "[0, 1, 2, 3, 4, 5, 6, 7, 8, 9]"
      ]
     },
     "execution_count": 16,
     "metadata": {},
     "output_type": "execute_result"
    }
   ],
   "source": [
    "list(range(0,10))"
   ]
  },
  {
   "cell_type": "code",
   "execution_count": null,
   "id": "86f9c7b5",
   "metadata": {},
   "outputs": [],
   "source": [
    "L5=list()\n",
    "L6=list('spam')\n",
    "L7=list(range(0,10))\n",
    "print(L5)\n",
    "print(L6)\n",
    "print(L7)"
   ]
  },
  {
   "cell_type": "markdown",
   "id": "f678d174",
   "metadata": {},
   "source": [
    "### create list of number with range()"
   ]
  },
  {
   "cell_type": "code",
   "execution_count": 17,
   "id": "10698aa7",
   "metadata": {},
   "outputs": [
    {
     "name": "stdout",
     "output_type": "stream",
     "text": [
      "[0, 1, 2, 3, 4, 5, 6, 7, 8, 9]\n",
      "[2, 3, 4, 5, 6, 7, 8, 9]\n"
     ]
    }
   ],
   "source": [
    "print(list(range(10)))\n",
    "print(list(range(2,10)))"
   ]
  },
  {
   "cell_type": "markdown",
   "id": "b0a2c292",
   "metadata": {},
   "source": [
    "### property of list, you also can + and *"
   ]
  },
  {
   "cell_type": "code",
   "execution_count": 5,
   "id": "c3825962",
   "metadata": {},
   "outputs": [
    {
     "name": "stdout",
     "output_type": "stream",
     "text": [
      "[1, 2, 3, 'A', 2, 3]\n",
      "[1, 2, 3, 1, 2, 3, 1, 2, 3]\n"
     ]
    }
   ],
   "source": [
    "print(L2 + L3)\n",
    "print(L2 * 3) "
   ]
  },
  {
   "cell_type": "markdown",
   "id": "863fb883",
   "metadata": {},
   "source": [
    "### List built-in function"
   ]
  },
  {
   "cell_type": "code",
   "execution_count": 24,
   "id": "db212631",
   "metadata": {},
   "outputs": [
    {
     "name": "stdout",
     "output_type": "stream",
     "text": [
      "[1, 2, 3, 4]\n"
     ]
    }
   ],
   "source": [
    "#append( ) : append(obj) will append the object at the end of the list.\n",
    "L=[1,2,3]\n",
    "L.append(4)\n",
    "print(L)"
   ]
  },
  {
   "cell_type": "code",
   "execution_count": 25,
   "id": "e03e9f43",
   "metadata": {},
   "outputs": [
    {
     "data": {
      "text/plain": [
       "[1, 2, 3, 4]"
      ]
     },
     "execution_count": 25,
     "metadata": {},
     "output_type": "execute_result"
    }
   ],
   "source": [
    "L"
   ]
  },
  {
   "cell_type": "code",
   "execution_count": 26,
   "id": "1f960b38",
   "metadata": {},
   "outputs": [
    {
     "name": "stdout",
     "output_type": "stream",
     "text": [
      "[1, 2, 3, 4, 1, 2, [3, 4]]\n"
     ]
    }
   ],
   "source": [
    "#extend( ): extend(seq) will break the seq and append them by order in the the list.\n",
    "L.extend([1,2,[3,4]])\n",
    "print(L)"
   ]
  },
  {
   "cell_type": "code",
   "execution_count": 27,
   "id": "8e171e82",
   "metadata": {},
   "outputs": [
    {
     "name": "stdout",
     "output_type": "stream",
     "text": [
      "[9, 1, 2, 3, 4, 1, 2, [3, 4]]\n"
     ]
    }
   ],
   "source": [
    "#insert( ): insert() is inserting an object at the index.\n",
    "L.insert(0,9) #INSERT(index,value)\n",
    "print(L)"
   ]
  },
  {
   "cell_type": "markdown",
   "id": "c54253c2",
   "metadata": {},
   "source": [
    "### index() & count()"
   ]
  },
  {
   "cell_type": "code",
   "execution_count": 29,
   "id": "79aa1467",
   "metadata": {},
   "outputs": [
    {
     "data": {
      "text/plain": [
       "2"
      ]
     },
     "execution_count": 29,
     "metadata": {},
     "output_type": "execute_result"
    }
   ],
   "source": [
    "L=[2,2,4,3]\n",
    "L.count(2)"
   ]
  },
  {
   "cell_type": "code",
   "execution_count": null,
   "id": "ab4a3102",
   "metadata": {},
   "outputs": [],
   "source": [
    "#index():return the first index with the value\n",
    "#ex: list = [3,1,3], list.index(3) will return 0. Even list[0] and list[2] both are 3, list[0]is the first one have 3 in the list.\n",
    "#count():return numbers of the value in the list.\n",
    "\n",
    "print(L)\n",
    "print(L.index(9)) #first index of 9 in L\n",
    "print(L.count(5)) #numbers of 5 in L"
   ]
  },
  {
   "cell_type": "markdown",
   "id": "dd466287",
   "metadata": {},
   "source": [
    "### sort() & reverse()"
   ]
  },
  {
   "cell_type": "code",
   "execution_count": null,
   "id": "c5a0d9ab",
   "metadata": {},
   "outputs": [],
   "source": [
    "#sort(): ascending \n",
    "#reverse() :descending\n",
    "\n",
    "L.sort() #from small to large\n",
    "print(L)\n",
    "L.reverse() #from large to small\n",
    "print(L)"
   ]
  },
  {
   "cell_type": "markdown",
   "id": "d1eaeffc",
   "metadata": {},
   "source": [
    "## What happen when we have list like below?"
   ]
  },
  {
   "cell_type": "code",
   "execution_count": 34,
   "id": "739f1764",
   "metadata": {},
   "outputs": [
    {
     "ename": "TypeError",
     "evalue": "'<' not supported between instances of 'int' and 'str'",
     "output_type": "error",
     "traceback": [
      "\u001b[0;31m---------------------------------------------------------------------------\u001b[0m",
      "\u001b[0;31mTypeError\u001b[0m                                 Traceback (most recent call last)",
      "Input \u001b[0;32mIn [34]\u001b[0m, in \u001b[0;36m<cell line: 2>\u001b[0;34m()\u001b[0m\n\u001b[1;32m      1\u001b[0m x\u001b[38;5;241m=\u001b[39m[\u001b[38;5;124m'\u001b[39m\u001b[38;5;124m1\u001b[39m\u001b[38;5;124m'\u001b[39m,\u001b[38;5;241m1\u001b[39m,\u001b[38;5;241m2\u001b[39m,\u001b[38;5;124m'\u001b[39m\u001b[38;5;124m2\u001b[39m\u001b[38;5;124m'\u001b[39m]\n\u001b[0;32m----> 2\u001b[0m \u001b[43mx\u001b[49m\u001b[38;5;241;43m.\u001b[39;49m\u001b[43msort\u001b[49m\u001b[43m(\u001b[49m\u001b[43m)\u001b[49m\n\u001b[1;32m      3\u001b[0m x\n",
      "\u001b[0;31mTypeError\u001b[0m: '<' not supported between instances of 'int' and 'str'"
     ]
    }
   ],
   "source": [
    "x=['1',1,2,'2']\n",
    "x.sort()\n",
    "x"
   ]
  },
  {
   "cell_type": "markdown",
   "id": "09864568",
   "metadata": {},
   "source": [
    "## 3 Ways to delete element from a list ##\n",
    "\n",
    "del [ ]: remove the element by index\n",
    "\n",
    "pop() :delete the last element of the list; also can use to remove the element by index. ex: pop(index)\n",
    "\n",
    "remove() :remove by value, if there's repeated value, it will only remove the first one."
   ]
  },
  {
   "cell_type": "code",
   "execution_count": 36,
   "id": "53988c3f",
   "metadata": {},
   "outputs": [
    {
     "name": "stdout",
     "output_type": "stream",
     "text": [
      "[1, 2, 2, 2, 5, 6, 5, 5]\n",
      "[1, 2, 5, 6, 5, 5]\n",
      "[1, 2, 5, 6, 5]\n",
      "[1, 5, 6, 5]\n",
      "[1, 6, 5]\n"
     ]
    }
   ],
   "source": [
    "L=[0,1,2,2,2,5,6,5,5]\n",
    "del L[0] #remove index[0]\n",
    "print(L)\n",
    "del L[1:3] #remove index 1:3\n",
    "print(L)\n",
    "L.pop() #default of pop is remove the last element\n",
    "print(L)\n",
    "L.pop(1) #remove the index 1 \n",
    "print(L)\n",
    "L.remove(5) #remove the 5\n",
    "print(L)"
   ]
  },
  {
   "cell_type": "code",
   "execution_count": null,
   "id": "4284ee4d",
   "metadata": {},
   "outputs": [],
   "source": []
  },
  {
   "cell_type": "code",
   "execution_count": 38,
   "id": "fed9f0db",
   "metadata": {},
   "outputs": [],
   "source": [
    "# Random number in list\n",
    "import random"
   ]
  },
  {
   "cell_type": "code",
   "execution_count": 55,
   "id": "f4b61f3b",
   "metadata": {},
   "outputs": [
    {
     "data": {
      "text/plain": [
       "[18, 20, 27, 23, 19]"
      ]
     },
     "execution_count": 55,
     "metadata": {},
     "output_type": "execute_result"
    }
   ],
   "source": [
    "random.sample(range(10, 30), 5)"
   ]
  },
  {
   "cell_type": "code",
   "execution_count": null,
   "id": "785f6763",
   "metadata": {},
   "outputs": [],
   "source": []
  },
  {
   "cell_type": "markdown",
   "id": "6194f6ed",
   "metadata": {},
   "source": [
    "# Dictionary"
   ]
  },
  {
   "cell_type": "markdown",
   "id": "28ac55b4",
   "metadata": {},
   "source": [
    "-key-value container, where 1 key toward 1 value.\n",
    "\n",
    "-not in order, so you cant use [index] to slice the dict.\n",
    "\n",
    "-keys are immuatable, we only can change the values."
   ]
  },
  {
   "cell_type": "code",
   "execution_count": null,
   "id": "3b4b36d6",
   "metadata": {},
   "outputs": [],
   "source": [
    "x[key] #value"
   ]
  },
  {
   "cell_type": "code",
   "execution_count": 58,
   "id": "d2f23c17",
   "metadata": {},
   "outputs": [
    {
     "name": "stdout",
     "output_type": "stream",
     "text": [
      "{1: 10, 'Class2': 11, 'Class3': 9}\n",
      "{'Class1': 5, 'Class2': 7, 'Class3': 9}\n",
      "{1: 'Apple', 2: 'Banana'}\n"
     ]
    }
   ],
   "source": [
    "#2 way of creating dictionary\n",
    "\n",
    "#by {}\n",
    "class_num = {1: 10, 'Class2': 11, 'Class3': 9}\n",
    "print(class_num)\n",
    "#by dict()\n",
    "class_num = dict(Class1 = 5, Class2 = 7, Class3 = 9)\n",
    "print(class_num)\n",
    "#Keys can be numbers\n",
    "#ex: \n",
    "Dict= {1:'Apple', 2:'Banana'}\n",
    "print(Dict)"
   ]
  },
  {
   "cell_type": "markdown",
   "id": "1d9498b4",
   "metadata": {},
   "source": [
    "### keys( ): return all the keys in the dict ###\n",
    "\n",
    "### values( ): return all the values in the dict ###"
   ]
  },
  {
   "cell_type": "code",
   "execution_count": 64,
   "id": "d12b7a75",
   "metadata": {},
   "outputs": [
    {
     "data": {
      "text/plain": [
       "5"
      ]
     },
     "execution_count": 64,
     "metadata": {},
     "output_type": "execute_result"
    }
   ],
   "source": [
    "list(class_num.values())[0]"
   ]
  },
  {
   "cell_type": "code",
   "execution_count": 18,
   "id": "d40e41cc",
   "metadata": {},
   "outputs": [
    {
     "name": "stdout",
     "output_type": "stream",
     "text": [
      "dict_keys(['Class1', 'Class2', 'Class3'])\n",
      "dict_values([5, 7, 9])\n"
     ]
    }
   ],
   "source": [
    "print(class_num.keys())\n",
    "print(class_num.values())"
   ]
  },
  {
   "cell_type": "markdown",
   "id": "d38c0eea",
   "metadata": {},
   "source": [
    "### items( ):return everything in dict and paired as tuple."
   ]
  },
  {
   "cell_type": "code",
   "execution_count": null,
   "id": "35650efc",
   "metadata": {},
   "outputs": [],
   "source": [
    "tuple "
   ]
  },
  {
   "cell_type": "code",
   "execution_count": 65,
   "id": "03aebb83",
   "metadata": {},
   "outputs": [
    {
     "name": "stdout",
     "output_type": "stream",
     "text": [
      "dict_items([('Class1', 5), ('Class2', 7), ('Class3', 9)])\n"
     ]
    },
    {
     "data": {
      "text/plain": [
       "'Class1'"
      ]
     },
     "execution_count": 65,
     "metadata": {},
     "output_type": "execute_result"
    }
   ],
   "source": [
    "print(class_num.items())\n",
    "list(class_num.items())[0][0]"
   ]
  },
  {
   "cell_type": "code",
   "execution_count": 27,
   "id": "eac9b849",
   "metadata": {},
   "outputs": [
    {
     "data": {
      "text/plain": [
       "dict_items([('Class1', 5), ('Class2', 7), ('Class3', 9)])"
      ]
     },
     "execution_count": 27,
     "metadata": {},
     "output_type": "execute_result"
    }
   ],
   "source": [
    "class_num.items()"
   ]
  },
  {
   "cell_type": "markdown",
   "id": "6f5f6672",
   "metadata": {},
   "source": [
    "### update the dict"
   ]
  },
  {
   "cell_type": "code",
   "execution_count": 66,
   "id": "9b70ed8f",
   "metadata": {},
   "outputs": [
    {
     "data": {
      "text/plain": [
       "{1: 'aaa', 2: 'bbb'}"
      ]
     },
     "execution_count": 66,
     "metadata": {},
     "output_type": "execute_result"
    }
   ],
   "source": [
    "D = {1:'aaa',2:'bbb'}\n",
    "D"
   ]
  },
  {
   "cell_type": "code",
   "execution_count": 67,
   "id": "998db1b6",
   "metadata": {},
   "outputs": [
    {
     "name": "stdout",
     "output_type": "stream",
     "text": [
      "{1: 'Aaa', 2: 'bbb', 3: 'ccc'}\n"
     ]
    }
   ],
   "source": [
    "D[3]='ccc'\n",
    "D[1]='Aaa'\n",
    "print(D)"
   ]
  },
  {
   "cell_type": "markdown",
   "id": "e00fa616",
   "metadata": {},
   "source": [
    "### update()"
   ]
  },
  {
   "cell_type": "code",
   "execution_count": 71,
   "id": "7a58a9a3",
   "metadata": {},
   "outputs": [
    {
     "data": {
      "text/plain": [
       "{'adam': 25, 'bob': 19, 'carl': 30, 'dave': 35, 'earl': 22, 'fred': 27}"
      ]
     },
     "execution_count": 71,
     "metadata": {},
     "output_type": "execute_result"
    }
   ],
   "source": [
    "peopleA = {'adam':25 , 'bob': 19, 'carl': 30}\n",
    "peopleB = {'dave':35 , 'earl': 22, 'fred': 27}   \n",
    "peopleA.update(peopleB)\n",
    "peopleA"
   ]
  },
  {
   "cell_type": "markdown",
   "id": "18260df2",
   "metadata": {},
   "source": [
    "#### if the dict used to update has keys that exist in the first dict, the key will be overwritten with the updated keys"
   ]
  },
  {
   "cell_type": "code",
   "execution_count": 73,
   "id": "16f08739",
   "metadata": {},
   "outputs": [
    {
     "data": {
      "text/plain": [
       "{'adam': 25,\n",
       " 'bob': 19,\n",
       " 'carl': 30,\n",
       " 'dave': 35,\n",
       " 'earl': 22,\n",
       " 'fred': 99,\n",
       " 'gary': 18}"
      ]
     },
     "execution_count": 73,
     "metadata": {},
     "output_type": "execute_result"
    }
   ],
   "source": [
    "peopleC = {'fred':99 , 'gary': 18}\n",
    "peopleA.update(peopleC)\n",
    "peopleA"
   ]
  },
  {
   "cell_type": "markdown",
   "id": "f22eb570",
   "metadata": {},
   "source": [
    "### delete the dict by it's key"
   ]
  },
  {
   "cell_type": "code",
   "execution_count": 74,
   "id": "7221dc9c",
   "metadata": {},
   "outputs": [
    {
     "name": "stdout",
     "output_type": "stream",
     "text": [
      "{1: 'abc'}\n",
      "{1: 'abc'}\n"
     ]
    }
   ],
   "source": [
    "#1. use pop(key):remove the key from the dict.\n",
    "\n",
    "D={1: 'abc', 2: 'def'}\n",
    "D.pop(2)\n",
    "print(D)\n",
    "\n",
    "#2.del D[key]\n",
    "\n",
    "D={1: 'abc', 2: 'def'}\n",
    "del D[2]\n",
    "print(D)"
   ]
  },
  {
   "cell_type": "markdown",
   "id": "98783f8a",
   "metadata": {},
   "source": [
    "### Find the values by it's key"
   ]
  },
  {
   "cell_type": "code",
   "execution_count": 75,
   "id": "ddc65a90",
   "metadata": {},
   "outputs": [
    {
     "name": "stdout",
     "output_type": "stream",
     "text": [
      "10\n"
     ]
    },
    {
     "data": {
      "text/plain": [
       "10"
      ]
     },
     "execution_count": 75,
     "metadata": {},
     "output_type": "execute_result"
    }
   ],
   "source": [
    "class_num = {'Class1': 10, 'Class2': 11, 'Class3': 9}\n",
    "print(class_num['Class1'])\n",
    "#get()\n",
    "class_num['Class1']\n",
    "class_num.get('Class1')"
   ]
  },
  {
   "cell_type": "code",
   "execution_count": 78,
   "id": "cc64cba0",
   "metadata": {},
   "outputs": [],
   "source": [
    "class_num.get('Class4')"
   ]
  },
  {
   "cell_type": "markdown",
   "id": "21e4146a",
   "metadata": {},
   "source": [
    "## Duplicate keys ##\n",
    "\n",
    "Python will not produce an error if you create a dict with duplicated keys.\n",
    "\n",
    "However, only the last instance of the unique key will be stored."
   ]
  },
  {
   "cell_type": "code",
   "execution_count": 79,
   "id": "4d51edfb",
   "metadata": {},
   "outputs": [],
   "source": [
    "d = {\"a\":1, \"b\":10, \"a\":2, \"b\":0, \"a\": 3}"
   ]
  },
  {
   "cell_type": "code",
   "execution_count": 80,
   "id": "51432382",
   "metadata": {},
   "outputs": [
    {
     "data": {
      "text/plain": [
       "{'a': 3, 'b': 0}"
      ]
     },
     "execution_count": 80,
     "metadata": {},
     "output_type": "execute_result"
    }
   ],
   "source": [
    "d"
   ]
  },
  {
   "cell_type": "markdown",
   "id": "8522efb6",
   "metadata": {},
   "source": [
    "### not indexed"
   ]
  },
  {
   "cell_type": "code",
   "execution_count": 40,
   "id": "6ad0692e",
   "metadata": {},
   "outputs": [
    {
     "data": {
      "text/plain": [
       "{'adam': 25, 'bob': 19, 'carl': 30}"
      ]
     },
     "execution_count": 40,
     "metadata": {},
     "output_type": "execute_result"
    }
   ],
   "source": [
    "people = dict([('adam', 25), ('bob', 19), ('carl', 30) ])\n",
    "people"
   ]
  },
  {
   "cell_type": "code",
   "execution_count": 81,
   "id": "212c45f4",
   "metadata": {},
   "outputs": [
    {
     "ename": "NameError",
     "evalue": "name 'people' is not defined",
     "output_type": "error",
     "traceback": [
      "\u001b[0;31m---------------------------------------------------------------------------\u001b[0m",
      "\u001b[0;31mNameError\u001b[0m                                 Traceback (most recent call last)",
      "Input \u001b[0;32mIn [81]\u001b[0m, in \u001b[0;36m<cell line: 1>\u001b[0;34m()\u001b[0m\n\u001b[0;32m----> 1\u001b[0m \u001b[43mpeople\u001b[49m[\u001b[38;5;241m0\u001b[39m]\n",
      "\u001b[0;31mNameError\u001b[0m: name 'people' is not defined"
     ]
    }
   ],
   "source": [
    "people[0]"
   ]
  },
  {
   "cell_type": "markdown",
   "id": "8c50eff0",
   "metadata": {},
   "source": [
    "### can not be sliced"
   ]
  },
  {
   "cell_type": "code",
   "execution_count": null,
   "id": "2fb2739f",
   "metadata": {},
   "outputs": [],
   "source": [
    "people[0:2]"
   ]
  },
  {
   "cell_type": "markdown",
   "id": "5982401e",
   "metadata": {},
   "source": [
    "## Use 'in' to check if the key/value is in the dict"
   ]
  },
  {
   "cell_type": "code",
   "execution_count": 83,
   "id": "0c4cdb51",
   "metadata": {},
   "outputs": [
    {
     "data": {
      "text/plain": [
       "{'adam': 25, 'bob': 19, 'carl': 30}"
      ]
     },
     "execution_count": 83,
     "metadata": {},
     "output_type": "execute_result"
    }
   ],
   "source": [
    "people = dict([('adam', 25), ('bob', 19), ('carl', 30) ])\n",
    "people"
   ]
  },
  {
   "cell_type": "code",
   "execution_count": 84,
   "id": "d8ff4057",
   "metadata": {},
   "outputs": [
    {
     "data": {
      "text/plain": [
       "True"
      ]
     },
     "execution_count": 84,
     "metadata": {},
     "output_type": "execute_result"
    }
   ],
   "source": [
    "'adam' in people"
   ]
  },
  {
   "cell_type": "code",
   "execution_count": 85,
   "id": "fd5574d8",
   "metadata": {},
   "outputs": [
    {
     "data": {
      "text/plain": [
       "False"
      ]
     },
     "execution_count": 85,
     "metadata": {},
     "output_type": "execute_result"
    }
   ],
   "source": [
    "19 in people"
   ]
  },
  {
   "cell_type": "code",
   "execution_count": 86,
   "id": "f54dccb3",
   "metadata": {},
   "outputs": [
    {
     "data": {
      "text/plain": [
       "True"
      ]
     },
     "execution_count": 86,
     "metadata": {},
     "output_type": "execute_result"
    }
   ],
   "source": [
    "19 in people.values()"
   ]
  },
  {
   "cell_type": "markdown",
   "id": "d1a00e1f",
   "metadata": {},
   "source": [
    "# Tuple"
   ]
  },
  {
   "cell_type": "code",
   "execution_count": 91,
   "id": "f7d9e944",
   "metadata": {},
   "outputs": [
    {
     "data": {
      "text/plain": [
       "(1,)"
      ]
     },
     "execution_count": 91,
     "metadata": {},
     "output_type": "execute_result"
    }
   ],
   "source": [
    "a=(1,)\n",
    "a"
   ]
  },
  {
   "cell_type": "code",
   "execution_count": 92,
   "id": "c89292a9",
   "metadata": {},
   "outputs": [
    {
     "name": "stdout",
     "output_type": "stream",
     "text": [
      "(1, 2, 2, 3)\n"
     ]
    }
   ],
   "source": [
    "a=1,2\n",
    "b=2,3\n",
    "print(a+b)"
   ]
  },
  {
   "cell_type": "code",
   "execution_count": 93,
   "id": "0660b88c",
   "metadata": {},
   "outputs": [
    {
     "name": "stdout",
     "output_type": "stream",
     "text": [
      "(1, 5, 1, 5)\n"
     ]
    }
   ],
   "source": [
    "a=1,5\n",
    "print(a*2)"
   ]
  },
  {
   "cell_type": "code",
   "execution_count": 95,
   "id": "fb30ae2d",
   "metadata": {},
   "outputs": [
    {
     "data": {
      "text/plain": [
       "['aa', 'bb', 'cc']"
      ]
     },
     "execution_count": 95,
     "metadata": {},
     "output_type": "execute_result"
    }
   ],
   "source": [
    "t = ('bb','aa','cc')\n",
    "sorted(t)"
   ]
  },
  {
   "cell_type": "markdown",
   "id": "de9d0970",
   "metadata": {},
   "source": [
    "### common mistake"
   ]
  },
  {
   "cell_type": "code",
   "execution_count": 97,
   "id": "bce87b69",
   "metadata": {},
   "outputs": [
    {
     "name": "stdout",
     "output_type": "stream",
     "text": [
      "<class 'str'>\n",
      "<class 'tuple'>\n",
      "str\n",
      "('str',)\n"
     ]
    }
   ],
   "source": [
    "a=('str')\n",
    "b=('str',)\n",
    "print(type(a))\n",
    "print(type(b))\n",
    "print(a)\n",
    "print(b)"
   ]
  },
  {
   "cell_type": "markdown",
   "id": "59690884",
   "metadata": {},
   "source": [
    "### tuple nested tuple, can use double[] as lists."
   ]
  },
  {
   "cell_type": "code",
   "execution_count": 98,
   "id": "d3c21363",
   "metadata": {},
   "outputs": [
    {
     "name": "stdout",
     "output_type": "stream",
     "text": [
      "('a', 4)\n",
      "a\n"
     ]
    }
   ],
   "source": [
    "t= (2,1,('a',4))\n",
    "print(t[2])\n",
    "print(t[2][0])"
   ]
  },
  {
   "cell_type": "code",
   "execution_count": null,
   "id": "f10ca837",
   "metadata": {},
   "outputs": [],
   "source": []
  },
  {
   "cell_type": "code",
   "execution_count": null,
   "id": "42925d2d",
   "metadata": {},
   "outputs": [],
   "source": []
  },
  {
   "cell_type": "markdown",
   "id": "4bd4bb46",
   "metadata": {},
   "source": [
    "## List with Tuple"
   ]
  },
  {
   "cell_type": "code",
   "execution_count": 100,
   "id": "e854cce1",
   "metadata": {},
   "outputs": [
    {
     "ename": "TypeError",
     "evalue": "can only concatenate list (not \"tuple\") to list",
     "output_type": "error",
     "traceback": [
      "\u001b[0;31m---------------------------------------------------------------------------\u001b[0m",
      "\u001b[0;31mTypeError\u001b[0m                                 Traceback (most recent call last)",
      "Input \u001b[0;32mIn [100]\u001b[0m, in \u001b[0;36m<cell line: 3>\u001b[0;34m()\u001b[0m\n\u001b[1;32m      1\u001b[0m a\u001b[38;5;241m=\u001b[39m[\u001b[38;5;241m1\u001b[39m,\u001b[38;5;241m2\u001b[39m,\u001b[38;5;241m3\u001b[39m]\n\u001b[1;32m      2\u001b[0m b\u001b[38;5;241m=\u001b[39m\u001b[38;5;241m1\u001b[39m,\u001b[38;5;241m2\u001b[39m,\u001b[38;5;241m3\u001b[39m\n\u001b[0;32m----> 3\u001b[0m \u001b[43ma\u001b[49m\u001b[38;5;241;43m+\u001b[39;49m\u001b[43mb\u001b[49m\n",
      "\u001b[0;31mTypeError\u001b[0m: can only concatenate list (not \"tuple\") to list"
     ]
    }
   ],
   "source": [
    "a=[1,2,3]\n",
    "b=1,2,3\n",
    "a+b"
   ]
  },
  {
   "cell_type": "code",
   "execution_count": 101,
   "id": "e985f59c",
   "metadata": {},
   "outputs": [
    {
     "data": {
      "text/plain": [
       "[1, 2, 3, 1, 2, 3]"
      ]
     },
     "execution_count": 101,
     "metadata": {},
     "output_type": "execute_result"
    }
   ],
   "source": [
    "a+list(b)"
   ]
  },
  {
   "cell_type": "markdown",
   "id": "20feaecf",
   "metadata": {},
   "source": [
    "# If-else"
   ]
  },
  {
   "cell_type": "markdown",
   "id": "ce70f97b",
   "metadata": {},
   "source": [
    "Decision making is anticipation of conditions occurring while execution of the program and specifying actions taken according to the conditions.\n",
    "\n",
    "Decision structures evaluate multiple expressions which produce TRUE or FALSE as outcome. You need to determine which action to take and which statements to execute if outcome is TRUE or FALSE otherwise.\n",
    "\n",
    "Python programming language assumes any non-zero and non-null values as TRUE, and if it is either zero or null, then it is assumed as FALSE value.\n",
    "https://www.tutorialspoint.com/python/python_decision_making.htm"
   ]
  },
  {
   "cell_type": "markdown",
   "id": "5fe43ff5",
   "metadata": {},
   "source": [
    "### Python supports the usual logical conditions from mathematics: ###\n",
    "\n",
    "Equals: a == b\n",
    "\n",
    "Not Equals: a != b\n",
    "\n",
    "Less than: a < b\n",
    "\n",
    "Less than or equal to: a <= b\n",
    "\n",
    "Greater than: a > b\n",
    "\n",
    "Greater than or equal to: a >= b"
   ]
  },
  {
   "cell_type": "code",
   "execution_count": 103,
   "id": "1f502171",
   "metadata": {},
   "outputs": [],
   "source": [
    "a = 33\n",
    "b = 20\n",
    "if b > a:\n",
    "    print(\"b is greater than a\")"
   ]
  },
  {
   "cell_type": "markdown",
   "id": "6266b16e",
   "metadata": {},
   "source": [
    "## Elif ##\n",
    "The elif keyword is pythons way of saying \"if the previous conditions were not true, then try this condition\"."
   ]
  },
  {
   "cell_type": "code",
   "execution_count": 105,
   "id": "b304fcb4",
   "metadata": {},
   "outputs": [],
   "source": [
    "a = 33\n",
    "b = 32\n",
    "if b > a:\n",
    "    print(\"b is greater than a\")\n",
    "elif a == b:\n",
    "    print(\"a and b are equal\")"
   ]
  },
  {
   "cell_type": "markdown",
   "id": "967b2d6c",
   "metadata": {},
   "source": [
    "## Else ##\n",
    "The else keyword catches anything which isn't caught by the preceding conditions."
   ]
  },
  {
   "cell_type": "code",
   "execution_count": 107,
   "id": "20457d4a",
   "metadata": {},
   "outputs": [
    {
     "name": "stdout",
     "output_type": "stream",
     "text": [
      "a is greater than b\n"
     ]
    }
   ],
   "source": [
    "a = 200\n",
    "b = 33\n",
    "if b >= a:\n",
    "    print(\"b is greater equal to a\")\n",
    "else:\n",
    "    print(\"a is greater than b\")"
   ]
  },
  {
   "cell_type": "markdown",
   "id": "8f828df2",
   "metadata": {},
   "source": [
    "#### One line if statement:"
   ]
  },
  {
   "cell_type": "code",
   "execution_count": 108,
   "id": "f24d50f1",
   "metadata": {},
   "outputs": [
    {
     "name": "stdout",
     "output_type": "stream",
     "text": [
      "a is greater than b\n"
     ]
    }
   ],
   "source": [
    "if a > b: print(\"a is greater than b\")"
   ]
  },
  {
   "cell_type": "markdown",
   "id": "845d4042",
   "metadata": {},
   "source": [
    "#### One line if else statement:"
   ]
  },
  {
   "cell_type": "code",
   "execution_count": 109,
   "id": "ec484d11",
   "metadata": {},
   "outputs": [
    {
     "name": "stdout",
     "output_type": "stream",
     "text": [
      "A\n"
     ]
    }
   ],
   "source": [
    "a = 2\n",
    "b = 0\n",
    "print(\"A\") if a > b else print(\"B\")"
   ]
  },
  {
   "cell_type": "code",
   "execution_count": 110,
   "id": "98440767",
   "metadata": {},
   "outputs": [
    {
     "data": {
      "text/plain": [
       "True"
      ]
     },
     "execution_count": 110,
     "metadata": {},
     "output_type": "execute_result"
    }
   ],
   "source": [
    "True and True"
   ]
  },
  {
   "cell_type": "markdown",
   "id": "e7fb506f",
   "metadata": {},
   "source": [
    "## And ##\n",
    "#### The and keyword is a logical operator, and is used to combine conditional statements:\n",
    "\n"
   ]
  },
  {
   "cell_type": "code",
   "execution_count": 111,
   "id": "755d2a68",
   "metadata": {},
   "outputs": [
    {
     "name": "stdout",
     "output_type": "stream",
     "text": [
      "Both conditions are True\n"
     ]
    }
   ],
   "source": [
    "#Test if a is greater than b, AND if c is greater than a:\n",
    "\n",
    "a = 200\n",
    "b = 33\n",
    "c = 500\n",
    "if a > b and c > a:\n",
    "    print(\"Both conditions are True\")"
   ]
  },
  {
   "cell_type": "markdown",
   "id": "afc471aa",
   "metadata": {},
   "source": [
    "## Or ##\n",
    "#### The or keyword is a logical operator, and is used to combine conditional statements:"
   ]
  },
  {
   "cell_type": "code",
   "execution_count": null,
   "id": "7e734dbb",
   "metadata": {},
   "outputs": [],
   "source": [
    "#Test if a is greater than b, OR if a is greater than c:\n",
    "\n",
    "a = 200\n",
    "b = 33\n",
    "c = 500\n",
    "if a > b or a > c:\n",
    "    print(\"At least one of the conditions is True\")"
   ]
  },
  {
   "cell_type": "markdown",
   "id": "6afaab4e",
   "metadata": {},
   "source": [
    "## Nested If ##\n",
    "#### You can have if statements inside if statements, this is called nested if statements."
   ]
  },
  {
   "cell_type": "code",
   "execution_count": null,
   "id": "129efe89",
   "metadata": {},
   "outputs": [],
   "source": [
    "if x>10 and x>20"
   ]
  },
  {
   "cell_type": "code",
   "execution_count": null,
   "id": "b624be3c",
   "metadata": {},
   "outputs": [],
   "source": [
    "x = 41\n",
    "\n",
    "if x > 10:\n",
    "    print(\"Above ten,\")\n",
    "    if x > 20:\n",
    "        print(\"and also above 20!\")\n",
    "    else:\n",
    "        print(\"but not above 20.\")"
   ]
  },
  {
   "cell_type": "markdown",
   "id": "4468b0fa",
   "metadata": {},
   "source": [
    "## The pass Statement ##\n",
    "#### if statements cannot be empty, but if you for some reason have an if statement with no content, put in the pass statement to avoid getting an error.\n",
    "\n"
   ]
  },
  {
   "cell_type": "code",
   "execution_count": 112,
   "id": "6b307a09",
   "metadata": {},
   "outputs": [],
   "source": [
    "a = 33\n",
    "b = 200\n",
    "\n",
    "if b > a:\n",
    "    \n",
    "    pass"
   ]
  },
  {
   "cell_type": "code",
   "execution_count": null,
   "id": "b65944a6",
   "metadata": {},
   "outputs": [],
   "source": []
  },
  {
   "cell_type": "markdown",
   "id": "2264153d",
   "metadata": {},
   "source": [
    "## Raise Statement"
   ]
  },
  {
   "cell_type": "code",
   "execution_count": 43,
   "id": "10bb39d9",
   "metadata": {},
   "outputs": [
    {
     "ename": "ValueError",
     "evalue": "too little",
     "output_type": "error",
     "traceback": [
      "\u001b[0;31m---------------------------------------------------------------------------\u001b[0m",
      "\u001b[0;31mValueError\u001b[0m                                Traceback (most recent call last)",
      "Input \u001b[0;32mIn [43]\u001b[0m, in \u001b[0;36m<cell line: 2>\u001b[0;34m()\u001b[0m\n\u001b[1;32m      1\u001b[0m x\u001b[38;5;241m=\u001b[39m\u001b[38;5;241m1\u001b[39m\n\u001b[1;32m      2\u001b[0m \u001b[38;5;28;01mif\u001b[39;00m x\u001b[38;5;241m<\u001b[39m\u001b[38;5;241m10\u001b[39m:\n\u001b[0;32m----> 3\u001b[0m     \u001b[38;5;28;01mraise\u001b[39;00m \u001b[38;5;167;01mValueError\u001b[39;00m(\u001b[38;5;124m'\u001b[39m\u001b[38;5;124mtoo little\u001b[39m\u001b[38;5;124m'\u001b[39m)\n",
      "\u001b[0;31mValueError\u001b[0m: too little"
     ]
    }
   ],
   "source": [
    "x=1\n",
    "if x<10:\n",
    "    raise ValueError('too little')"
   ]
  },
  {
   "cell_type": "code",
   "execution_count": 44,
   "id": "13fbd03e",
   "metadata": {},
   "outputs": [
    {
     "ename": "NameError",
     "evalue": "name 'smallError' is not defined",
     "output_type": "error",
     "traceback": [
      "\u001b[0;31m---------------------------------------------------------------------------\u001b[0m",
      "\u001b[0;31mNameError\u001b[0m                                 Traceback (most recent call last)",
      "Input \u001b[0;32mIn [44]\u001b[0m, in \u001b[0;36m<cell line: 2>\u001b[0;34m()\u001b[0m\n\u001b[1;32m      1\u001b[0m x\u001b[38;5;241m=\u001b[39m\u001b[38;5;241m1\u001b[39m\n\u001b[1;32m      2\u001b[0m \u001b[38;5;28;01mif\u001b[39;00m x\u001b[38;5;241m<\u001b[39m\u001b[38;5;241m10\u001b[39m:\n\u001b[0;32m----> 3\u001b[0m     \u001b[38;5;28;01mraise\u001b[39;00m \u001b[43msmallError\u001b[49m(\u001b[38;5;124m'\u001b[39m\u001b[38;5;124mtoo little\u001b[39m\u001b[38;5;124m'\u001b[39m)\n",
      "\u001b[0;31mNameError\u001b[0m: name 'smallError' is not defined"
     ]
    }
   ],
   "source": [
    "x=1\n",
    "if x<10:\n",
    "    raise smallError('too little')"
   ]
  },
  {
   "cell_type": "markdown",
   "id": "345697ce",
   "metadata": {},
   "source": [
    "## Try/except"
   ]
  },
  {
   "cell_type": "code",
   "execution_count": 46,
   "id": "8a02196e",
   "metadata": {},
   "outputs": [
    {
     "name": "stdout",
     "output_type": "stream",
     "text": [
      "typeError happened\n"
     ]
    }
   ],
   "source": [
    "try:\n",
    "    1+'a'\n",
    "except TypeError:\n",
    "    print(\"typeError happened\")\n",
    "    continue #or you may use break to change the input"
   ]
  },
  {
   "cell_type": "code",
   "execution_count": 115,
   "id": "4d804a1c",
   "metadata": {},
   "outputs": [
    {
     "name": "stdout",
     "output_type": "stream",
     "text": [
      "2\n"
     ]
    }
   ],
   "source": [
    "x=1\n",
    "y='a'\n",
    "\n",
    "try:\n",
    "    print(x+y)\n",
    "except TypeError: \n",
    "    print(int(x)+int(y))\n",
    "    "
   ]
  },
  {
   "cell_type": "code",
   "execution_count": 116,
   "id": "45c99e9d",
   "metadata": {
    "scrolled": true
   },
   "outputs": [
    {
     "ename": "ValueError",
     "evalue": "invalid literal for int() with base 10: 'a'",
     "output_type": "error",
     "traceback": [
      "\u001b[0;31m---------------------------------------------------------------------------\u001b[0m",
      "\u001b[0;31mValueError\u001b[0m                                Traceback (most recent call last)",
      "Input \u001b[0;32mIn [116]\u001b[0m, in \u001b[0;36m<cell line: 1>\u001b[0;34m()\u001b[0m\n\u001b[0;32m----> 1\u001b[0m \u001b[38;5;28;43mint\u001b[39;49m\u001b[43m(\u001b[49m\u001b[38;5;124;43m'\u001b[39;49m\u001b[38;5;124;43ma\u001b[39;49m\u001b[38;5;124;43m'\u001b[39;49m\u001b[43m)\u001b[49m\n",
      "\u001b[0;31mValueError\u001b[0m: invalid literal for int() with base 10: 'a'"
     ]
    }
   ],
   "source": [
    "int('a')"
   ]
  },
  {
   "cell_type": "code",
   "execution_count": null,
   "id": "0c10d44b",
   "metadata": {},
   "outputs": [],
   "source": []
  },
  {
   "cell_type": "code",
   "execution_count": null,
   "id": "d833c3d9",
   "metadata": {},
   "outputs": [],
   "source": []
  },
  {
   "cell_type": "code",
   "execution_count": null,
   "id": "19e4bfdc",
   "metadata": {},
   "outputs": [],
   "source": []
  },
  {
   "cell_type": "code",
   "execution_count": null,
   "id": "aba792e6",
   "metadata": {},
   "outputs": [],
   "source": []
  },
  {
   "cell_type": "code",
   "execution_count": 119,
   "id": "7326319c",
   "metadata": {},
   "outputs": [
    {
     "name": "stdout",
     "output_type": "stream",
     "text": [
      "ValueError happened\n"
     ]
    }
   ],
   "source": [
    "try:\n",
    "    int('a')\n",
    "except ValueError:\n",
    "    print(\"ValueError happened\") #or you may use break to change the input"
   ]
  },
  {
   "cell_type": "code",
   "execution_count": null,
   "id": "f7eaa4b9",
   "metadata": {},
   "outputs": [],
   "source": []
  }
 ],
 "metadata": {
  "kernelspec": {
   "display_name": "Python 3 (ipykernel)",
   "language": "python",
   "name": "python3"
  },
  "language_info": {
   "codemirror_mode": {
    "name": "ipython",
    "version": 3
   },
   "file_extension": ".py",
   "mimetype": "text/x-python",
   "name": "python",
   "nbconvert_exporter": "python",
   "pygments_lexer": "ipython3",
   "version": "3.9.13"
  }
 },
 "nbformat": 4,
 "nbformat_minor": 5
}
