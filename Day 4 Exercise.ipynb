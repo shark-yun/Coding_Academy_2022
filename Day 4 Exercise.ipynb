{
 "cells": [
  {
   "cell_type": "markdown",
   "id": "9bcebd98",
   "metadata": {},
   "source": [
    "# Q1.Write a function called check_prime(x), to check if x is prime or not"
   ]
  },
  {
   "cell_type": "code",
   "execution_count": null,
   "id": "a9d6da3b",
   "metadata": {},
   "outputs": [],
   "source": []
  },
  {
   "cell_type": "code",
   "execution_count": null,
   "id": "28bc1830",
   "metadata": {},
   "outputs": [],
   "source": [
    "#test case: 17\n",
    "check_prime(17)"
   ]
  },
  {
   "cell_type": "code",
   "execution_count": null,
   "id": "f0ce57d0",
   "metadata": {},
   "outputs": [],
   "source": [
    "#test case: 22\n",
    "check_prime(22)"
   ]
  },
  {
   "cell_type": "code",
   "execution_count": null,
   "id": "8efdce11",
   "metadata": {},
   "outputs": [],
   "source": [
    "#test case: 29\n",
    "check_prime(29)"
   ]
  },
  {
   "cell_type": "code",
   "execution_count": null,
   "id": "573b6a63",
   "metadata": {},
   "outputs": [],
   "source": []
  },
  {
   "cell_type": "markdown",
   "id": "26352fa8",
   "metadata": {},
   "source": [
    "# Q2.modify the check_prime(x), make it able to return list of [T/F]. Extra: return pairs in the list [(2,True),(3,True).....]"
   ]
  },
  {
   "cell_type": "code",
   "execution_count": null,
   "id": "4c65d25e",
   "metadata": {},
   "outputs": [],
   "source": []
  },
  {
   "cell_type": "code",
   "execution_count": null,
   "id": "4be1f390",
   "metadata": {},
   "outputs": [],
   "source": [
    "#test case: [-1,0,2,3,4,5,7,9,11,12,15,99]\n",
    "check_prime([-1,0,2,3,4,5,7,9,11,12,15,99])"
   ]
  },
  {
   "cell_type": "code",
   "execution_count": null,
   "id": "964b4600",
   "metadata": {},
   "outputs": [],
   "source": []
  },
  {
   "cell_type": "code",
   "execution_count": null,
   "id": "8c9b23b1",
   "metadata": {},
   "outputs": [],
   "source": [
    "https://www.youtube.com/watch?v=vGOPihbhs-A"
   ]
  },
  {
   "cell_type": "markdown",
   "id": "af6e1e64",
   "metadata": {},
   "source": [
    "# Pokemon"
   ]
  },
  {
   "cell_type": "markdown",
   "id": "81b38fae",
   "metadata": {},
   "source": [
    "### 1. set hp defualt as 100, base_damage as 25, exp as 0. ###\n",
    "### 2. add error handle for name and elemental_type ###\n",
    "hint1: elemental_type only have 4 type\n",
    "\n",
    "hint2: what type of error they are\n",
    "\n",
    "### 3. add the arguments into self properties.\n",
    "Ex: self.name = name ..."
   ]
  },
  {
   "cell_type": "code",
   "execution_count": null,
   "id": "3c447cd9",
   "metadata": {},
   "outputs": [],
   "source": [
    "class Pokemon:\n",
    "    def __init__(self,elemental_type,name, hp, base_damage, exp):\n",
    "        if type(name)!=str:\n",
    "            raise ...\n",
    "        if elemental_type not in [\"water\", \"fire\", \"grass\", \"normal\"]:\n",
    "            ...\n",
    "        self.name=name\n",
    "        ...\n",
    "        ...\n",
    "        ...\n",
    "        ..."
   ]
  },
  {
   "cell_type": "markdown",
   "id": "c017367b",
   "metadata": {},
   "source": [
    "expected output:\n",
    "\n",
    "This Pokemon has elemental type grass.\n",
    "\n",
    "This Pokemon's name is Bulbasaur.\n",
    "\n",
    "This Pokemon has 100 hp.\n",
    "\n",
    "This Pokemon has 0 exp."
   ]
  },
  {
   "cell_type": "code",
   "execution_count": 3,
   "id": "c6937a5f",
   "metadata": {
    "scrolled": true
   },
   "outputs": [
    {
     "name": "stdout",
     "output_type": "stream",
     "text": [
      "This Pokemon has elemental type grass.\n",
      "This Pokemon's name is Bulbasaur.\n",
      "This Pokemon has 100 hp.\n",
      "This Pokemon has 0 exp.\n"
     ]
    }
   ],
   "source": [
    "#test case, do not modify\n",
    "Bulbasaur = Pokemon(elemental_type = \"grass\", name = \"Bulbasaur\")\n",
    "print(\"This Pokemon has elemental type \" + Bulbasaur.elemental_type + \".\")\n",
    "print(\"This Pokemon's name is \" + Bulbasaur.name + \".\")\n",
    "print(\"This Pokemon has \" + str(Bulbasaur.hp) + \" hp.\")\n",
    "print(\"This Pokemon has \" + str(Bulbasaur.exp) + \" exp.\") "
   ]
  },
  {
   "cell_type": "markdown",
   "id": "55910911",
   "metadata": {},
   "source": [
    "## Battle functions ##\n",
    "<div>\n",
    "<img src=\"pokemontype.jpeg\" width=\"400\"/>\n",
    "</div>"
   ]
  },
  {
   "cell_type": "code",
   "execution_count": null,
   "id": "abaab88c",
   "metadata": {},
   "outputs": [],
   "source": [
    "# how does different elemental type interact with each\n",
    "# row names are attacker, col names are defender\n",
    "        \"water\", \"fire\", \"grass\", \"normal\"\n",
    "\"water\"  weak, strong , weak , standard\n",
    "\"fire\"   weak, weak, strong, standard\n",
    "\"grass\"  strong, weak, weak, standard\n",
    "\"normal\" standard,standard,standard,standard\n",
    "\n",
    "then we transform the matrix into weak=0.5, standard=1 and strong=2."
   ]
  },
  {
   "cell_type": "code",
   "execution_count": 12,
   "id": "95d98e57",
   "metadata": {},
   "outputs": [],
   "source": [
    "#I made it for yall~\n",
    "ELEMENTAL_TYPES = [\"water\", \"fire\", \"grass\", \"normal\"]\n",
    "MULTIPLIERS=[[0.5, 2 , 0.5, 1],\n",
    "             [0.5, 0.5, 2 , 1],\n",
    "             [2 , 0.5, 0.5, 1],\n",
    "             [1 , 1 , 1 , 1]]\n"
   ]
  },
  {
   "cell_type": "markdown",
   "id": "33426094",
   "metadata": {},
   "source": [
    "### 4. add a attack function in the class pokemon\n",
    "\n",
    "hint: The attack damage will be affect by the attacker's elemental type and defender's elemental type.\n",
    "\n",
    "\n",
    "### 4.1 Error handle 1: ###\n",
    "You should ensure that the elemental_type is one of the possible ELEMENTAL_TYPES listed\n",
    "above ( [\"water\", \"fire\", \"grass\", \"normal\"] ), and raise an informative ValueError if\n",
    "not. You are not required to handle capitalization, so you can treat \"Fire\" as an invalid type in order to make your code simpler.\n",
    "\n",
    "### 4.1 Error Handle 2: ###\n",
    "You should also ensure that the name of the Pooccemon is a string, and raise an informative\n",
    "TypeError if it is not. By \"informative,\" we mean that the error message gives the user guidance on how to fix the issue.\n",
    "\n",
    "\n",
    "\n",
    "### 4-2 add random adjustment, where it may miss or make critical hit.\n",
    "\n",
    "let the random adjustment range be -20 to 20. (hint: import random) \n",
    "\n",
    "random.randint(-20,20)\n",
    "\n",
    "The attack damage will be attacker's base_damage * multiplier + random_adjustment\n",
    "\n",
    "hint for multiplier \n",
    "#use dict to store element type with index and use the index to get the right multiplier\n",
    "\n",
    "### 4-3\n",
    "modify defender hp by the attack damage\n",
    "\n",
    "print message include attacker name, attacker damage deal, and the updated defender hp\n",
    "\n",
    "print defender 'has fainted' when defender hp less than 0."
   ]
  },
  {
   "cell_type": "markdown",
   "id": "56338d7c",
   "metadata": {},
   "source": [
    "## Challenge version"
   ]
  },
  {
   "cell_type": "code",
   "execution_count": null,
   "id": "ae502ab0",
   "metadata": {},
   "outputs": [],
   "source": [
    "# YOUR CLASS DEFINITION HERE\n",
    "import random\n",
    "#class Pokemon\n",
    "class Pokemon:\n",
    "    def __init__(self,elemental_type,name, hp=100, base_damage=25, exp=0):\n",
    "        #part 1,2,3\n",
    "#Part 4\n",
    "    def attack(self,defender):\n",
    "        if self.hp <=0:\n",
    "            ....\n",
    "        if ....\n",
    "            ....(defender.name + \"'s hp is < = 0, please choose other Pokemon.\")\n",
    "     #use dict to store element type with index and use the index to get the right m\n",
    "        ....\n",
    "        a=...\n",
    "        b=...\n",
    "        multiplier=MULTIPLIERS[a][b]\n",
    "        random_adjustment=...\n",
    "        damage = .....\n",
    "        defender.hp ....\n",
    "\n",
    "        if defender.hp>0:\n",
    "            print(self.name +\" did \"+ str(damage) + \" damage to \"+defender.name+\". \"+defender.name +\" has \" + str(defender.hp) + \" hp remainding.\")\n",
    "        else:\n",
    "            print(self.name +\" did \"+ str(damage) + \" damage to \"+defender.name+\". \"+defender.name +\" has \" + str(defender.hp) + \" hp remainding.\")\n",
    "            print('The defender '+ defender.name + 'has fainted')\n",
    "           ...\n",
    "            print(self.name +\" exp +10.\")\n",
    "        "
   ]
  },
  {
   "cell_type": "markdown",
   "id": "07087dcc",
   "metadata": {},
   "source": [
    "## Normal version"
   ]
  },
  {
   "cell_type": "code",
   "execution_count": 33,
   "id": "d935e582",
   "metadata": {},
   "outputs": [],
   "source": [
    "# YOUR CLASS DEFINITION HERE\n",
    "import random\n",
    "#class Pokemon\n",
    "class Pokemon:\n",
    "    def __init__(self,elemental_type,name, hp=100, base_damage=25, exp=0):\n",
    "        #part 1,2,3\n",
    "#Part 4\n",
    "    def attack(self,defender):\n",
    "        if self.hp <=0:\n",
    "            ... ValueError....\n",
    "        if defender.hp ==0:\n",
    "            ....(defender.name + \"'s hp is < = 0, please choose other Pokemon.\")\n",
    "     #use dict to store element type with index and use the index to get the right m\n",
    "        ele_dic={}\n",
    "        for i in range(len(ELEMENTAL_TYPES)):\n",
    "            ele_dic[ELEMENTAL_TYPES[i]]=i\n",
    "        a=...\n",
    "        b=...\n",
    "        multiplier=MULTIPLIERS[a][b]\n",
    "        random_adjustment=random.randint(-20,20)\n",
    "        damage = .....\n",
    "        defender.hp ....\n",
    "\n",
    "        if defender.hp>0:\n",
    "            print(self.name +\" did \"+ str(damage) + \" damage to \"+defender.name+\". \"+defender.name +\" has \" + str(defender.hp) + \" hp remainding.\")\n",
    "        else:\n",
    "            print(self.name +\" did \"+ str(damage) + \" damage to \"+defender.name+\". \"+defender.name +\" has \" + str(defender.hp) + \" hp remainding.\")\n",
    "            print('The defender '+ defender.name + 'has fainted')\n",
    "            self.exp ...\n",
    "            print(self.name +\" exp +10.\")\n",
    "        "
   ]
  },
  {
   "cell_type": "code",
   "execution_count": 25,
   "id": "a3822e96",
   "metadata": {},
   "outputs": [
    {
     "name": "stdout",
     "output_type": "stream",
     "text": [
      "WaterFriend has 100 hp.\n",
      "TreeFriend did 50 damage to WaterFriend. WaterFriend has 50 hp remainding.\n",
      "TreeFriend did 50 damage to WaterFriend. WaterFriend has 0 hp remainding.\n",
      "The defender WaterFriendhas fainted\n",
      "TreeFriend exp +10.\n"
     ]
    }
   ],
   "source": [
    "WaterFriend = Pokemon(elemental_type = \"water\", name = \"WaterFriend\")\n",
    "TreeFriend = Pokemon(elemental_type = \"grass\", name = \"TreeFriend\")\n",
    "print(WaterFriend.name + \" has \" + str(TreeFriend.hp) + \" hp.\")\n",
    "while WaterFriend.hp > 0:\n",
    "    TreeFriend.attack(WaterFriend)"
   ]
  },
  {
   "cell_type": "markdown",
   "id": "2bf1012a",
   "metadata": {},
   "source": []
  },
  {
   "cell_type": "code",
   "execution_count": null,
   "id": "2dc89287",
   "metadata": {},
   "outputs": [],
   "source": []
  },
  {
   "cell_type": "code",
   "execution_count": null,
   "id": "44d055f3",
   "metadata": {},
   "outputs": [],
   "source": []
  },
  {
   "cell_type": "code",
   "execution_count": null,
   "id": "d89ed576",
   "metadata": {},
   "outputs": [],
   "source": []
  },
  {
   "cell_type": "code",
   "execution_count": null,
   "id": "860cc45e",
   "metadata": {},
   "outputs": [],
   "source": []
  },
  {
   "cell_type": "markdown",
   "id": "61c63bd4",
   "metadata": {},
   "source": [
    "## Part 5\n",
    "#### 1. When a Pokemon reaches 20 exp , it levels up, and becomes stronger.\n",
    "#### 2. Implement a Pokemon.level_up() method. This method should:\n",
    "\n",
    "- Add 5 points to the base_damage of the Pokemon's attack() method.\n",
    "\n",
    "- Reset the Pokemon's exp to 0.\n",
    "\n",
    "- Print a message indicating that the Pokemon has leveled up. Use the Pokemon's name!\n",
    "\n",
    "Implement this method, and ensure that it is called whenever a Pokemon reaches 20 or more\n",
    "exp via the attack() method. Then, demonstrate it by running the code below"
   ]
  },
  {
   "cell_type": "code",
   "execution_count": null,
   "id": "d2446d9d",
   "metadata": {},
   "outputs": [],
   "source": [
    "## copy your code from top\n",
    "        \n",
    "#Part (5)\n",
    "        ...:\n",
    "            self.level_up()\n",
    " #Part (5)\n",
    "    def level_up(self):\n",
    "        ...\n",
    "        print(self.name +\" level up and now exp back to \"+ str(self.exp)+\" and its base damage now is \"+str(self.base_damage) )"
   ]
  },
  {
   "cell_type": "code",
   "execution_count": 26,
   "id": "f5758da8",
   "metadata": {},
   "outputs": [
    {
     "name": "stdout",
     "output_type": "stream",
     "text": [
      "TreeFriend did 50 damage to WaterFriend. WaterFriend has 50 hp remainding.\n",
      "TreeFriend did 50 damage to WaterFriend. WaterFriend has 0 hp remainding.\n",
      "The defender WaterFriendhas fainted\n",
      "TreeFriend exp +10.\n",
      "TreeFriend did 12.5 damage to FireFriend. FireFriend has 87.5 hp remainding.\n",
      "TreeFriend did 12.5 damage to FireFriend. FireFriend has 75.0 hp remainding.\n",
      "TreeFriend did 12.5 damage to FireFriend. FireFriend has 62.5 hp remainding.\n",
      "TreeFriend did 12.5 damage to FireFriend. FireFriend has 50.0 hp remainding.\n",
      "TreeFriend did 12.5 damage to FireFriend. FireFriend has 37.5 hp remainding.\n",
      "TreeFriend did 12.5 damage to FireFriend. FireFriend has 25.0 hp remainding.\n",
      "TreeFriend did 12.5 damage to FireFriend. FireFriend has 12.5 hp remainding.\n",
      "TreeFriend did 12.5 damage to FireFriend. FireFriend has 0.0 hp remainding.\n",
      "The defender FireFriendhas fainted\n",
      "TreeFriend exp +10.\n",
      "TreeFriend level up and now exp back to 0 and its base damage now is 30\n"
     ]
    }
   ],
   "source": [
    "# demonstrate leveling up.\n",
    "# RUN, DO NOT MODIFY\n",
    "WaterFriend = Pokemon(elemental_type = \"water\", name = \"WaterFriend\")\n",
    "FireFriend = Pokemon(elemental_type = \"fire\", name = \"FireFriend\")\n",
    "TreeFriend = Pokemon(elemental_type = \"grass\", name = \"TreeFriend\")\n",
    "while WaterFriend.hp > 0:\n",
    "    TreeFriend.attack(WaterFriend)\n",
    "\n",
    "while FireFriend.hp > 0:\n",
    "    TreeFriend.attack(FireFriend)"
   ]
  },
  {
   "cell_type": "code",
   "execution_count": 34,
   "id": "ed3acb5e",
   "metadata": {},
   "outputs": [
    {
     "name": "stdout",
     "output_type": "stream",
     "text": [
      "Charmander did -2.5 damage to Squirtle. Squirtle has 102.5 hp remainding.\n",
      "Squirtle did 46 damage to Charmander. Charmander has 54 hp remainding.\n",
      "Charmander did 18.5 damage to Squirtle. Squirtle has 84.0 hp remainding.\n",
      "Squirtle did 44 damage to Charmander. Charmander has 10 hp remainding.\n",
      "Charmander did 12.5 damage to Squirtle. Squirtle has 71.5 hp remainding.\n",
      "Squirtle did 44 damage to Charmander. Charmander has -34 hp remainding.\n",
      "The defender Charmanderhas fainted\n",
      "Squirtle exp +10.\n"
     ]
    }
   ],
   "source": [
    "# Battle time\n",
    "Squirtle = Pokemon(elemental_type = \"water\", name = \"Squirtle\")\n",
    "Charmander = Pokemon(elemental_type = \"fire\", name = \"Charmander\")\n",
    "while Squirtle.hp > 0 and Charmander.hp>0:\n",
    "    Charmander.attack(Squirtle)\n",
    "    Squirtle.attack(Charmander)"
   ]
  },
  {
   "cell_type": "code",
   "execution_count": null,
   "id": "c9215c47",
   "metadata": {},
   "outputs": [],
   "source": []
  }
 ],
 "metadata": {
  "kernelspec": {
   "display_name": "Python 3 (ipykernel)",
   "language": "python",
   "name": "python3"
  },
  "language_info": {
   "codemirror_mode": {
    "name": "ipython",
    "version": 3
   },
   "file_extension": ".py",
   "mimetype": "text/x-python",
   "name": "python",
   "nbconvert_exporter": "python",
   "pygments_lexer": "ipython3",
   "version": "3.9.13"
  }
 },
 "nbformat": 4,
 "nbformat_minor": 5
}
