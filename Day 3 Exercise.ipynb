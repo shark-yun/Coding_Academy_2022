{
 "cells": [
  {
   "cell_type": "markdown",
   "id": "6cb24dc4",
   "metadata": {},
   "source": [
    "# 1. Create a dictionary by extracting the keys from a given dictionary"
   ]
  },
  {
   "cell_type": "code",
   "execution_count": 1,
   "id": "3b50b607",
   "metadata": {},
   "outputs": [],
   "source": [
    "sampleDict = { \n",
    "  \"name\": \"Kelly\",\n",
    "  \"age\":25, \n",
    "  \"salary\": 8000, \n",
    "  \"city\": \"New york\" }\n",
    "\n",
    "keys = [\"name\", \"salary\"]"
   ]
  },
  {
   "cell_type": "code",
   "execution_count": null,
   "id": "3dd0be89",
   "metadata": {},
   "outputs": [],
   "source": []
  },
  {
   "cell_type": "code",
   "execution_count": 7,
   "id": "9055b970",
   "metadata": {},
   "outputs": [
    {
     "name": "stdout",
     "output_type": "stream",
     "text": [
      "{'name': 'Kelly', 'salary': 8000}\n"
     ]
    }
   ],
   "source": [
    "# new dict\n",
    "res = dict()\n",
    "\n",
    "#loop and add current key with           its value from sample_dict\n",
    "\n",
    "\n",
    "print(res)"
   ]
  },
  {
   "cell_type": "markdown",
   "id": "1e2d84e4",
   "metadata": {},
   "source": [
    "## 1-1 count \"abcababccdab\" in dict ##\n",
    "### hint:loop through str, and store the alphabet as key into dict."
   ]
  },
  {
   "cell_type": "code",
   "execution_count": 21,
   "id": "2db84df4",
   "metadata": {},
   "outputs": [
    {
     "name": "stdout",
     "output_type": "stream",
     "text": [
      "{'a': 4, 'b': 4, 'c': 3, 'd': 1}\n"
     ]
    }
   ],
   "source": [
    "x=\"abcababccdab\"\n",
    "D={} #or D=dict()\n",
    "\n",
    "\n",
    "print(D)"
   ]
  },
  {
   "cell_type": "code",
   "execution_count": null,
   "id": "e627679f",
   "metadata": {},
   "outputs": [],
   "source": []
  },
  {
   "cell_type": "markdown",
   "id": "c891dc16",
   "metadata": {},
   "source": [
    "expect: {'a':4, ' b':4.... }"
   ]
  },
  {
   "cell_type": "markdown",
   "id": "8b282ab0",
   "metadata": {},
   "source": [
    "## 1-2  Print i while i is less than 6."
   ]
  },
  {
   "cell_type": "code",
   "execution_count": 22,
   "id": "738acbd2",
   "metadata": {},
   "outputs": [
    {
     "name": "stdout",
     "output_type": "stream",
     "text": [
      "1\n",
      "2\n",
      "3\n",
      "4\n",
      "5\n"
     ]
    }
   ],
   "source": [
    "\n",
    "i = 1\n",
    "    print(i)\n",
    "\n",
    "    #yeah"
   ]
  },
  {
   "cell_type": "markdown",
   "id": "caba6bd0",
   "metadata": {},
   "source": [
    "# 2. Check if all items in the tuple are the same\n"
   ]
  },
  {
   "cell_type": "code",
   "execution_count": 1,
   "id": "4eedef53",
   "metadata": {},
   "outputs": [],
   "source": [
    "tuple1 = (45,45, 45, 45)\n",
    "\n"
   ]
  },
  {
   "cell_type": "markdown",
   "id": "1dfc9347",
   "metadata": {},
   "source": [
    "# 3. Get all values from the dictionary and add them to a list but don’t add duplicates."
   ]
  },
  {
   "cell_type": "code",
   "execution_count": 33,
   "id": "6f5b343f",
   "metadata": {},
   "outputs": [],
   "source": [
    "speed = {'jan': 47, 'feb': 52, 'march': 47, 'April': 44, 'May': 52, 'June': 53, 'july': 54, 'Aug': 44, 'Sept': 54}"
   ]
  },
  {
   "cell_type": "markdown",
   "id": "973276e4",
   "metadata": {},
   "source": [
    "Expected Outcome: [47, 52, 44, 53, 54]"
   ]
  },
  {
   "cell_type": "code",
   "execution_count": 38,
   "id": "fab183fc",
   "metadata": {},
   "outputs": [
    {
     "data": {
      "text/plain": [
       "[47, 52, 44, 53, 54]"
      ]
     },
     "execution_count": 38,
     "metadata": {},
     "output_type": "execute_result"
    }
   ],
   "source": [
    "# get only dictionary values\n",
    "\n",
    "#create a new list to store the expected result\n",
    "speed_list = list()\n",
    "\n",
    "# iterate through dict values and check if value not present in a list\n",
    "\n",
    "\n",
    "speed_list"
   ]
  },
  {
   "cell_type": "markdown",
   "id": "f30991fc",
   "metadata": {},
   "source": [
    "# 4. Write a python code to count the number of even elements in a list"
   ]
  },
  {
   "cell_type": "code",
   "execution_count": 40,
   "id": "0fc7df82",
   "metadata": {},
   "outputs": [],
   "source": [
    "my_list_1 = [252, 9, 258, 220, 249, 83, 195, 298, 228, 67, 233, 133, 280, 96, 53, 204, \n",
    "            247, 268, 115, 127, 215, 214, 221, 275, 224, 36, 292, 145, 150, 17, 93, \n",
    "            292, 206, 229, 189, 41, 246, 279, 158, 161, 90, 47, 195, 137, 171, 5, \n",
    "            206, 106, 58, 226, 140, 6, 29, 277, 192, 47, 296, 90, 19, 290, 235, 229, \n",
    "            26, 8, 220, 168, 294, 238, 138, 150, 13, 143, 209, 102, 192, 2, 140, 6, 99, 189\n",
    "            ]\n"
   ]
  },
  {
   "cell_type": "code",
   "execution_count": 41,
   "id": "11c7d9be",
   "metadata": {},
   "outputs": [
    {
     "data": {
      "text/plain": [
       "42"
      ]
     },
     "execution_count": 41,
     "metadata": {},
     "output_type": "execute_result"
    }
   ],
   "source": [
    "#Using a for loop\n",
    "\n",
    "count=0\n",
    " "
   ]
  },
  {
   "cell_type": "markdown",
   "id": "4d99affd",
   "metadata": {},
   "source": [
    "# 5. write a code to count numbers of even and odd numbers in my_list_1"
   ]
  },
  {
   "cell_type": "code",
   "execution_count": 42,
   "id": "2fd22c4c",
   "metadata": {},
   "outputs": [
    {
     "data": {
      "text/plain": [
       "True"
      ]
     },
     "execution_count": 42,
     "metadata": {},
     "output_type": "execute_result"
    }
   ],
   "source": [
    "total_even=0\n",
    "total_odd=0\n",
    "\n"
   ]
  },
  {
   "cell_type": "code",
   "execution_count": null,
   "id": "8d999b6b",
   "metadata": {},
   "outputs": [],
   "source": []
  },
  {
   "cell_type": "markdown",
   "id": "db8d14b7",
   "metadata": {},
   "source": [
    "# 6. Modify the Day2 exercise Q7 with while loop"
   ]
  },
  {
   "cell_type": "code",
   "execution_count": null,
   "id": "3dceec8c",
   "metadata": {},
   "outputs": [],
   "source": []
  },
  {
   "cell_type": "code",
   "execution_count": 47,
   "id": "705cb42b",
   "metadata": {},
   "outputs": [
    {
     "name": "stdout",
     "output_type": "stream",
     "text": [
      "Enter your grades\n",
      "ValueError shows up\n",
      "Enter your grade with proper input, ex: a number between 0-100: a\n",
      "ValueError shows up\n",
      "Enter your grade with proper input, ex: a number between 0-100: b\n",
      "ValueError shows up\n",
      "Enter your grade with proper input, ex: a number between 0-100: c\n",
      "ValueError shows up\n",
      "Enter your grade with proper input, ex: a number between 0-100: a\n",
      "ValueError shows up\n",
      "Enter your grade with proper input, ex: a number between 0-100: 20\n",
      "F\n"
     ]
    }
   ],
   "source": [
    "x=input(\"Enter your grade\")\n",
    "\n",
    "while ...:\n",
    "    \n"
   ]
  },
  {
   "cell_type": "code",
   "execution_count": null,
   "id": "91ff6cf2",
   "metadata": {},
   "outputs": [],
   "source": []
  },
  {
   "cell_type": "markdown",
   "id": "11a2600a",
   "metadata": {},
   "source": [
    "# Afternoon Blackjack"
   ]
  },
  {
   "cell_type": "code",
   "execution_count": 55,
   "id": "b1c2a444",
   "metadata": {},
   "outputs": [
    {
     "name": "stdout",
     "output_type": "stream",
     "text": [
      "[10, 5]\n"
     ]
    },
    {
     "data": {
      "text/plain": [
       "15"
      ]
     },
     "execution_count": 55,
     "metadata": {},
     "output_type": "execute_result"
    }
   ],
   "source": [
    "#hints, initial cards\n",
    "import random\n",
    "cards = [1,2,3,4,5,6,7,8,9,10,10,10,10]*4\n",
    "  \n",
    "randomCard = random.choices(cards,k=2)\n",
    "print(randomCard)\n",
    "sum(randomCard)"
   ]
  },
  {
   "cell_type": "code",
   "execution_count": null,
   "id": "6dc11375",
   "metadata": {},
   "outputs": [],
   "source": []
  },
  {
   "cell_type": "markdown",
   "id": "b0c50390",
   "metadata": {},
   "source": [
    "## Game rules\n",
    "\n",
    "#### each player will recieve 2 card.\n",
    "\n",
    "#### the player can decide to add more cards or not, (adding a card each time)\n",
    "#### if players point>21, we store it's point as 'bust'\n",
    "#### we will compare each players points with the dealer\n",
    "\n",
    "#### winning \n",
    "\n",
    "\n",
    "#### 1. if your point is closer to 21 than the dealer\n",
    "#### 2. if dealer 'bust'\n",
    "A 2 ..10 J Q K, suits = 10\n",
    "A=1 or 11. #our first model, lets just make A =1.\n",
    "\n",
    "\n"
   ]
  },
  {
   "cell_type": "code",
   "execution_count": null,
   "id": "e4412790",
   "metadata": {},
   "outputs": [],
   "source": []
  },
  {
   "cell_type": "code",
   "execution_count": 60,
   "id": "cd5cd0e1",
   "metadata": {},
   "outputs": [
    {
     "name": "stdout",
     "output_type": "stream",
     "text": [
      "16\n",
      "Hit or Keep: hit\n",
      "The player Bust\n"
     ]
    }
   ],
   "source": [
    "### One Player\n",
    "import random\n",
    "cards = [1,2,3,4,5,6,7,8,9,10,10,10,10]*4\n",
    "  \n",
    "initial_cards = random.choices(cards,k=2)\n"
   ]
  },
  {
   "cell_type": "code",
   "execution_count": 114,
   "id": "b7af369b",
   "metadata": {
    "scrolled": true
   },
   "outputs": [
    {
     "name": "stdout",
     "output_type": "stream",
     "text": [
      "[10, 8]\n",
      "1 th player total is  18\n",
      "Hit or Keep: hit\n",
      "1 th player bust.\n",
      "[10, 6]\n",
      "2 th player total is  16\n",
      "Hit or Keep: hit\n",
      "2 th player bust.\n",
      "[8, 5]\n",
      "3 th player total is  13\n",
      "Hit or Keep: hit\n",
      "3 th player total is  15\n",
      "Hit or Keep: keep\n",
      "['Bust', 'Bust', 15]\n",
      "1 th player Lose.\n",
      "2 th player Lose.\n"
     ]
    }
   ],
   "source": [
    "#### modify 1 to 'A', and ask the player to choose it as 1 or 10\n",
    "\n"
   ]
  },
  {
   "cell_type": "code",
   "execution_count": 113,
   "id": "e263f8fa",
   "metadata": {},
   "outputs": [],
   "source": [
    "# Blackjack with 'A'\n"
   ]
  },
  {
   "cell_type": "markdown",
   "id": "6404b421",
   "metadata": {},
   "source": [
    "# 1. we cant directly + or sum the random.choices\n",
    "# 2. we will check the random.choices output\n",
    "# 3. if there is 'A' in the hand, we ask player to pick they want it as 1 or 11.\n"
   ]
  },
  {
   "cell_type": "code",
   "execution_count": null,
   "id": "cf957155",
   "metadata": {},
   "outputs": [],
   "source": []
  },
  {
   "cell_type": "code",
   "execution_count": 2,
   "id": "cd03ff74",
   "metadata": {},
   "outputs": [],
   "source": [
    "### Muliple Player\n",
    "n= 5 # player numbers\n",
    "#let last player to be dealer \n",
    "cards = ['A',2,3,4,5,6,7,8,9,10,10,10,10]*4\n",
    "  \n"
   ]
  },
  {
   "cell_type": "code",
   "execution_count": null,
   "id": "cfda7fed",
   "metadata": {},
   "outputs": [],
   "source": []
  },
  {
   "cell_type": "code",
   "execution_count": 62,
   "id": "6afbc5ed",
   "metadata": {},
   "outputs": [
    {
     "data": {
      "text/plain": [
       "[18, 11, 8, 14]"
      ]
     },
     "execution_count": 62,
     "metadata": {},
     "output_type": "execute_result"
    }
   ],
   "source": [
    "#we want the last player to be dealer\n"
   ]
  },
  {
   "cell_type": "code",
   "execution_count": null,
   "id": "ac18ebb6",
   "metadata": {},
   "outputs": [],
   "source": []
  }
 ],
 "metadata": {
  "kernelspec": {
   "display_name": "Python 3 (ipykernel)",
   "language": "python",
   "name": "python3"
  },
  "language_info": {
   "codemirror_mode": {
    "name": "ipython",
    "version": 3
   },
   "file_extension": ".py",
   "mimetype": "text/x-python",
   "name": "python",
   "nbconvert_exporter": "python",
   "pygments_lexer": "ipython3",
   "version": "3.9.13"
  }
 },
 "nbformat": 4,
 "nbformat_minor": 5
}
