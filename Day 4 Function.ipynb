{
 "cells": [
  {
   "cell_type": "markdown",
   "id": "346106d7",
   "metadata": {},
   "source": [
    "# Function"
   ]
  },
  {
   "cell_type": "markdown",
   "id": "ac0e4571",
   "metadata": {},
   "source": [
    "A function is a block of code which only runs when it is called.\n",
    "\n",
    "You can pass data, known as parameters, into a function.\n",
    "\n",
    "A function can return data as a result."
   ]
  },
  {
   "cell_type": "markdown",
   "id": "5313bce2",
   "metadata": {},
   "source": [
    "### Creating a Function ### \n",
    "\n",
    "In Python a function is defined using the def keyword:"
   ]
  },
  {
   "cell_type": "code",
   "execution_count": 6,
   "id": "452d22d6",
   "metadata": {},
   "outputs": [],
   "source": [
    "def my_function():\n",
    "    print(\"Hello from a function\")"
   ]
  },
  {
   "cell_type": "code",
   "execution_count": 7,
   "id": "60e1632b",
   "metadata": {},
   "outputs": [
    {
     "name": "stdout",
     "output_type": "stream",
     "text": [
      "Hello from a function\n"
     ]
    }
   ],
   "source": [
    "my_function()"
   ]
  },
  {
   "cell_type": "markdown",
   "id": "e693725f",
   "metadata": {},
   "source": [
    "### Arguments ###\n",
    "Information can be passed into functions as arguments.\n",
    "\n",
    "Arguments are specified after the function name, inside the parentheses. You can add as many arguments as you want, just separate them with a comma.\n",
    "\n",
    "The following example has a function with one argument (fname). When the function is called, we pass along a first name, which is used inside the function to print the full name:"
   ]
  },
  {
   "cell_type": "code",
   "execution_count": 14,
   "id": "ba4fa545",
   "metadata": {},
   "outputs": [],
   "source": [
    "def fruit(x): \n",
    "    print(\"I ate\",x)"
   ]
  },
  {
   "cell_type": "code",
   "execution_count": 12,
   "id": "387a768f",
   "metadata": {},
   "outputs": [
    {
     "name": "stdout",
     "output_type": "stream",
     "text": [
      "I ate aaa\n"
     ]
    }
   ],
   "source": [
    "fruit('apple')"
   ]
  },
  {
   "cell_type": "markdown",
   "id": "ac199f07",
   "metadata": {},
   "source": [
    "#### From a function's perspective: ####\n",
    "\n",
    "A parameter is the variable listed inside the parentheses in the function definition.\n",
    "\n",
    "An argument is the value that is sent to the function when it is called."
   ]
  },
  {
   "cell_type": "code",
   "execution_count": null,
   "id": "e038d19a",
   "metadata": {},
   "outputs": [],
   "source": [
    "the previous example, we have x as parameter. and 'apple' as argument"
   ]
  },
  {
   "cell_type": "markdown",
   "id": "5542878d",
   "metadata": {},
   "source": [
    "### Error when you have different argument than the parameter"
   ]
  },
  {
   "cell_type": "code",
   "execution_count": 15,
   "id": "9df50400",
   "metadata": {},
   "outputs": [
    {
     "ename": "TypeError",
     "evalue": "fruit() takes 1 positional argument but 2 were given",
     "output_type": "error",
     "traceback": [
      "\u001b[0;31m---------------------------------------------------------------------------\u001b[0m",
      "\u001b[0;31mTypeError\u001b[0m                                 Traceback (most recent call last)",
      "Input \u001b[0;32mIn [15]\u001b[0m, in \u001b[0;36m<cell line: 1>\u001b[0;34m()\u001b[0m\n\u001b[0;32m----> 1\u001b[0m \u001b[43mfruit\u001b[49m\u001b[43m(\u001b[49m\u001b[38;5;124;43m'\u001b[39;49m\u001b[38;5;124;43mapple\u001b[39;49m\u001b[38;5;124;43m'\u001b[39;49m\u001b[43m,\u001b[49m\u001b[38;5;124;43m'\u001b[39;49m\u001b[38;5;124;43mbanana\u001b[39;49m\u001b[38;5;124;43m'\u001b[39;49m\u001b[43m)\u001b[49m\n",
      "\u001b[0;31mTypeError\u001b[0m: fruit() takes 1 positional argument but 2 were given"
     ]
    }
   ],
   "source": [
    "fruit('apple','banana')"
   ]
  },
  {
   "cell_type": "markdown",
   "id": "f602adfd",
   "metadata": {},
   "source": [
    "## Arbitrary Arguments, *args ##\n",
    "If you do not know how many arguments that will be passed into your function, add a * before the parameter name in the function definition.\n",
    "\n",
    "This way the function will receive a tuple of arguments, and can access the items accordingly:"
   ]
  },
  {
   "cell_type": "code",
   "execution_count": 18,
   "id": "e9f5c24e",
   "metadata": {},
   "outputs": [],
   "source": [
    "def fruit2(*x):\n",
    "    print(\"I ate\",x)"
   ]
  },
  {
   "cell_type": "code",
   "execution_count": 21,
   "id": "5b2c5f2e",
   "metadata": {},
   "outputs": [
    {
     "name": "stdout",
     "output_type": "stream",
     "text": [
      "I ate ('apple', 'banana')\n",
      "<class 'tuple'>\n"
     ]
    }
   ],
   "source": [
    "fruit2('apple','banana')"
   ]
  },
  {
   "cell_type": "code",
   "execution_count": 20,
   "id": "2a00fec8",
   "metadata": {},
   "outputs": [],
   "source": [
    "def fruit2(*x):\n",
    "    print(\"I ate\",x)\n",
    "    print(type(x))\n",
    "## guess"
   ]
  },
  {
   "cell_type": "code",
   "execution_count": 22,
   "id": "eebbcef2",
   "metadata": {},
   "outputs": [],
   "source": [
    "def fruit2(*x):\n",
    "    #loop to fix\n",
    "    \n",
    "        print(\"I ate\",i)\n"
   ]
  },
  {
   "cell_type": "code",
   "execution_count": 23,
   "id": "1b268fa8",
   "metadata": {},
   "outputs": [
    {
     "name": "stdout",
     "output_type": "stream",
     "text": [
      "I ate apple\n",
      "I ate banana\n"
     ]
    }
   ],
   "source": [
    "fruit2('apple','banana')"
   ]
  },
  {
   "cell_type": "markdown",
   "id": "eadcc552",
   "metadata": {},
   "source": [
    "### Keyword Arguments ###"
   ]
  },
  {
   "cell_type": "code",
   "execution_count": 24,
   "id": "270f04e5",
   "metadata": {},
   "outputs": [],
   "source": [
    "def fruit3(a,b,c):\n",
    "    print(\"Morning:\",a,\". Afternoon:\", b, \". After Dinner:\", c)"
   ]
  },
  {
   "cell_type": "code",
   "execution_count": 25,
   "id": "cd7ec31d",
   "metadata": {},
   "outputs": [
    {
     "name": "stdout",
     "output_type": "stream",
     "text": [
      "Morning: apple . Afternoon: banana . After Dinner: orange\n"
     ]
    }
   ],
   "source": [
    "fruit3('apple','banana','orange')"
   ]
  },
  {
   "cell_type": "code",
   "execution_count": null,
   "id": "6bac289b",
   "metadata": {},
   "outputs": [],
   "source": [
    "#guess what's the output"
   ]
  },
  {
   "cell_type": "code",
   "execution_count": 26,
   "id": "fd7ba9bf",
   "metadata": {},
   "outputs": [
    {
     "name": "stdout",
     "output_type": "stream",
     "text": [
      "Morning: banana . Afternoon: orange . After Dinner: apple\n"
     ]
    }
   ],
   "source": [
    "fruit3(c='apple',a='banana',b='orange')"
   ]
  },
  {
   "cell_type": "markdown",
   "id": "fdb5ee04",
   "metadata": {},
   "source": [
    "### Arbitrary Keyword Arguments, **kwargs  ###\n",
    "\n",
    "If you do not know how many keyword arguments that will be passed into your function, add two asterisk: ** before the parameter name in the function definition.\n",
    "\n",
    "This way the function will receive a dictionary of arguments, and can access the items accordingly:\n",
    "\n"
   ]
  },
  {
   "cell_type": "code",
   "execution_count": 27,
   "id": "7f8163c5",
   "metadata": {},
   "outputs": [
    {
     "name": "stdout",
     "output_type": "stream",
     "text": [
      "first fruit is apple.\n"
     ]
    }
   ],
   "source": [
    "#Example\n",
    "#If the number of keyword arguments is unknown, add a double ** before the parameter name:\n",
    "\n",
    "def fruit4(**fruit):\n",
    "    print(\"first fruit is \" + fruit[\"a\"] +'.')\n",
    "\n",
    "fruit4(a = \"apple\", b = \"banana\")"
   ]
  },
  {
   "cell_type": "markdown",
   "id": "150a44ca",
   "metadata": {},
   "source": [
    "### Default Parameter Value ###\n",
    "The following example shows how to use a default parameter value.\n",
    "\n",
    "If we call the function without argument, it uses the default value:\n",
    "\n"
   ]
  },
  {
   "cell_type": "code",
   "execution_count": 28,
   "id": "9ce2b4d3",
   "metadata": {},
   "outputs": [
    {
     "name": "stdout",
     "output_type": "stream",
     "text": [
      "I ate apple\n",
      "I ate banana\n",
      "I ate lemon\n"
     ]
    }
   ],
   "source": [
    "def fruit5(fruit = \"lemon\"): #given default value of fruit as lemon\n",
    "    print(\"I ate \" + fruit)\n",
    "\n",
    "fruit5(\"apple\")\n",
    "fruit5(\"banana\")\n",
    "fruit5()"
   ]
  },
  {
   "cell_type": "code",
   "execution_count": null,
   "id": "5d87ec19",
   "metadata": {},
   "outputs": [],
   "source": []
  },
  {
   "cell_type": "markdown",
   "id": "471516f3",
   "metadata": {},
   "source": [
    "#### Return Values ####\n",
    "To let a function return a value, use the return statement:"
   ]
  },
  {
   "cell_type": "code",
   "execution_count": 32,
   "id": "6a2293a8",
   "metadata": {},
   "outputs": [
    {
     "name": "stdout",
     "output_type": "stream",
     "text": [
      "6\n",
      "10\n"
     ]
    }
   ],
   "source": [
    "def double(x):\n",
    "    return 2 * x\n",
    "\n",
    "print(double(3))\n",
    "print(double(5))"
   ]
  },
  {
   "cell_type": "markdown",
   "id": "a89647e1",
   "metadata": {},
   "source": [
    "# Recursion function #\n",
    "Python also accepts function recursion, which means a defined function can call itself.\n",
    "\n",
    "Recursion is a common mathematical and programming concept. It means that a function calls itself. This has the benefit of meaning that you can loop through data to reach a result.\n",
    "\n",
    "The developer should be very careful with recursion as it can be quite easy to slip into writing a function which never terminates, or one that uses excess amounts of memory or processor power. However, when written correctly recursion can be a very efficient and mathematically-elegant approach to programming"
   ]
  },
  {
   "cell_type": "code",
   "execution_count": 38,
   "id": "b121644c",
   "metadata": {},
   "outputs": [
    {
     "name": "stdout",
     "output_type": "stream",
     "text": [
      "The factorial of 5 is 120\n"
     ]
    }
   ],
   "source": [
    "def factorial(x):\n",
    "    \"\"\"This is a recursive function\n",
    "    to find the factorial of an integer\"\"\"\n",
    "    if x>0:\n",
    "        if x == 1:\n",
    "            return 1\n",
    "        else:\n",
    "            return (x * factorial(x-1))\n",
    "    else:\n",
    "        raise ValueError('Number must be a positive integer.')\n",
    "    \n",
    "\n",
    "\n",
    "num = 5\n",
    "print(\"The factorial of\", num, \"is\", factorial(num))"
   ]
  },
  {
   "cell_type": "code",
   "execution_count": null,
   "id": "0c71c4a0",
   "metadata": {},
   "outputs": [],
   "source": []
  },
  {
   "cell_type": "code",
   "execution_count": null,
   "id": "a4956b20",
   "metadata": {},
   "outputs": [],
   "source": []
  }
 ],
 "metadata": {
  "kernelspec": {
   "display_name": "Python 3 (ipykernel)",
   "language": "python",
   "name": "python3"
  },
  "language_info": {
   "codemirror_mode": {
    "name": "ipython",
    "version": 3
   },
   "file_extension": ".py",
   "mimetype": "text/x-python",
   "name": "python",
   "nbconvert_exporter": "python",
   "pygments_lexer": "ipython3",
   "version": "3.9.13"
  }
 },
 "nbformat": 4,
 "nbformat_minor": 5
}
